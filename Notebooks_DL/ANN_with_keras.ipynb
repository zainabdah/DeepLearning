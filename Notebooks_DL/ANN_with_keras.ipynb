{
  "cells": [
    {
      "cell_type": "markdown",
      "metadata": {
        "id": "UH7FqxxHwwv4"
      },
      "source": [
        "# Artificial Neural Networks with Keras"
      ]
    },
    {
      "cell_type": "markdown",
      "metadata": {
        "id": "huF3zJw9wwv_"
      },
      "source": [
        "<table align=\"left\">\n",
        "  <td>\n",
        "    <a target=\"_blank\" href=\"https://colab.research.google.com/github/AbdelMahm/INPT-2020/blob/master/Notebooks_DL/ANN_with_keras.ipynb\"><img src=\"https://colab.research.google.com/img/colab_favicon_256px.png\" />Run in Google Colab</a>\n",
        "  </td>\n",
        "</table>"
      ]
    },
    {
      "cell_type": "markdown",
      "metadata": {
        "id": "sjnHEKtRwwwC"
      },
      "source": [
        "# Setup"
      ]
    },
    {
      "cell_type": "code",
      "execution_count": null,
      "metadata": {
        "id": "Np0P6xeQwwwD"
      },
      "outputs": [],
      "source": [
        "Firstly, let's import a few common modules, ensure MatplotLib plots figures inline and prepare a function to save the figures. We also check that Python 3.5 or later is installed (although Python 2.x may work, it is deprecated so we strongly recommend you use Python 3 instead), as well as Scikit-Learn ≥0.20 and TensorFlow ≥2.0."
      ]
    },
    {
      "cell_type": "code",
      "execution_count": 63,
      "metadata": {
        "id": "pQRkrM7pwwwG"
      },
      "outputs": [],
      "source": [
        "# TensorFlow ≥2.0 is required\n",
        "import tensorflow as tf\n",
        "\n",
        "# Common imports\n",
        "import numpy as np\n",
        "import os\n",
        "\n",
        "# to make this notebook's output stable across runs\n",
        "np.random.seed(42)\n",
        "\n",
        "# To plot pretty figures\n",
        "%matplotlib inline\n",
        "import matplotlib as mpl\n",
        "import matplotlib.pyplot as plt\n",
        "mpl.rc('axes', labelsize=14)\n",
        "mpl.rc('xtick', labelsize=12)\n",
        "mpl.rc('ytick', labelsize=12)\n",
        "\n",
        "# Ignore useless warnings (see SciPy issue #5998)\n",
        "import warnings\n",
        "warnings.filterwarnings(action=\"ignore\", message=\"^internal gelsd\")"
      ]
    },
    {
      "cell_type": "markdown",
      "metadata": {
        "id": "pIeP1lHswwwI"
      },
      "source": [
        "# Building an Image Classifier"
      ]
    },
    {
      "cell_type": "markdown",
      "metadata": {
        "id": "7NSHEhHawwwJ"
      },
      "source": [
        "First let's import TensorFlow and Keras."
      ]
    },
    {
      "cell_type": "code",
      "execution_count": 65,
      "metadata": {
        "collapsed": true,
        "id": "5QKAYv46wwwK"
      },
      "outputs": [],
      "source": [
        "import tensorflow as tf\n",
        "from tensorflow import keras"
      ]
    },
    {
      "cell_type": "code",
      "execution_count": 66,
      "metadata": {
        "id": "ZejrS1PVwwwM",
        "outputId": "ab5b407b-fa09-4dc7-d4ee-af2912817f27",
        "colab": {
          "base_uri": "https://localhost:8080/",
          "height": 35
        }
      },
      "outputs": [
        {
          "output_type": "execute_result",
          "data": {
            "text/plain": [
              "'2.8.0'"
            ],
            "application/vnd.google.colaboratory.intrinsic+json": {
              "type": "string"
            }
          },
          "metadata": {},
          "execution_count": 66
        }
      ],
      "source": [
        "tf.__version__"
      ]
    },
    {
      "cell_type": "markdown",
      "metadata": {
        "id": "cl76Br2XwwwN"
      },
      "source": [
        "Let's start by loading the fashion MNIST dataset. Keras has a number of functions to load popular datasets in `keras.datasets`. The dataset is already split for you between a training set and a test set, but it can be useful to split the training set further to have a validation set:"
      ]
    },
    {
      "cell_type": "code",
      "execution_count": 67,
      "metadata": {
        "collapsed": true,
        "id": "qsU2zNpWwwwO"
      },
      "outputs": [],
      "source": [
        "fashion_mnist = keras.datasets.fashion_mnist\n",
        "(X_train_full, y_train_full), (X_test, y_test) = fashion_mnist.load_data()"
      ]
    },
    {
      "cell_type": "markdown",
      "metadata": {
        "id": "o6qy6eydwwwP"
      },
      "source": [
        "The training set contains 60,000 grayscale images, each 28x28 pixels:"
      ]
    },
    {
      "cell_type": "code",
      "execution_count": 68,
      "metadata": {
        "id": "UfD12qLmwwwQ",
        "outputId": "d4423b55-e4d9-4045-ba8d-1ba3105809ed",
        "colab": {
          "base_uri": "https://localhost:8080/"
        }
      },
      "outputs": [
        {
          "output_type": "execute_result",
          "data": {
            "text/plain": [
              "(60000, 28, 28)"
            ]
          },
          "metadata": {},
          "execution_count": 68
        }
      ],
      "source": [
        "X_train_full.shape"
      ]
    },
    {
      "cell_type": "markdown",
      "metadata": {
        "id": "_Qjii0TLwwwR"
      },
      "source": [
        "Each pixel intensity is represented as a byte (0 to 255):"
      ]
    },
    {
      "cell_type": "code",
      "execution_count": 69,
      "metadata": {
        "id": "_pLtzUf0wwwR",
        "outputId": "06bbb06a-db84-4da9-ca13-9b340ddb10b2",
        "colab": {
          "base_uri": "https://localhost:8080/"
        }
      },
      "outputs": [
        {
          "output_type": "execute_result",
          "data": {
            "text/plain": [
              "dtype('uint8')"
            ]
          },
          "metadata": {},
          "execution_count": 69
        }
      ],
      "source": [
        "X_train_full.dtype"
      ]
    },
    {
      "cell_type": "markdown",
      "metadata": {
        "id": "nIoHpxmnwwwS"
      },
      "source": [
        "Let's split the full training set into a validation set and a (smaller) training set. We also scale the pixel intensities down to the 0-1 range and convert them to floats, by dividing by 255."
      ]
    },
    {
      "cell_type": "code",
      "execution_count": 70,
      "metadata": {
        "collapsed": true,
        "id": "xmoRladpwwwT"
      },
      "outputs": [],
      "source": [
        "X_valid, X_train = X_train_full[:5000] / 255., X_train_full[5000:] / 255.\n",
        "y_valid, y_train = y_train_full[:5000], y_train_full[5000:]\n",
        "X_test = X_test / 255."
      ]
    },
    {
      "cell_type": "markdown",
      "metadata": {
        "id": "eRp0RooWwwwU"
      },
      "source": [
        "You can plot an image using Matplotlib's `imshow()` function, with a `'binary'`\n",
        " color map:"
      ]
    },
    {
      "cell_type": "code",
      "execution_count": 71,
      "metadata": {
        "id": "-MBljnXnwwwU",
        "outputId": "0c880f18-9bb3-497b-fe1d-a67955c376b2",
        "colab": {
          "base_uri": "https://localhost:8080/",
          "height": 248
        }
      },
      "outputs": [
        {
          "output_type": "display_data",
          "data": {
            "text/plain": [
              "<Figure size 432x288 with 1 Axes>"
            ],
            "image/png": "[encoded data removed]"
          },
          "metadata": {
            "needs_background": "light"
          }
        }
      ],
      "source": [
        "plt.imshow(X_train[0], cmap=\"binary\")\n",
        "plt.axis('off')\n",
        "plt.show()"
      ]
    },
    {
      "cell_type": "markdown",
      "metadata": {
        "id": "c1vkwDOGwwwV"
      },
      "source": [
        "The labels are the class IDs (represented as uint8), from 0 to 9:"
      ]
    },
    {
      "cell_type": "code",
      "execution_count": 72,
      "metadata": {
        "id": "Cg7SN2mmwwwW",
        "outputId": "4f6a9324-df5f-4b7a-883d-a406f801f6e6",
        "colab": {
          "base_uri": "https://localhost:8080/"
        }
      },
      "outputs": [
        {
          "output_type": "execute_result",
          "data": {
            "text/plain": [
              "array([4, 0, 7, ..., 3, 0, 5], dtype=uint8)"
            ]
          },
          "metadata": {},
          "execution_count": 72
        }
      ],
      "source": [
        "y_train"
      ]
    },
    {
      "cell_type": "markdown",
      "metadata": {
        "id": "MPmjOepowwwW"
      },
      "source": [
        "Here are the corresponding class names:"
      ]
    },
    {
      "cell_type": "code",
      "execution_count": 73,
      "metadata": {
        "collapsed": true,
        "id": "1PECEaupwwwX"
      },
      "outputs": [],
      "source": [
        "class_names = [\"T-shirt/top\", \"Trouser\", \"Pullover\", \"Dress\", \"Coat\",\n",
        "               \"Sandal\", \"Shirt\", \"Sneaker\", \"Bag\", \"Ankle boot\"]"
      ]
    },
    {
      "cell_type": "markdown",
      "metadata": {
        "id": "SheZHekBwwwX"
      },
      "source": [
        "So the first image in the training set is a coat:"
      ]
    },
    {
      "cell_type": "code",
      "execution_count": 74,
      "metadata": {
        "id": "S2kyop86wwwY",
        "outputId": "ead22299-0f0d-4263-eba0-d07cf48aab13",
        "colab": {
          "base_uri": "https://localhost:8080/",
          "height": 35
        }
      },
      "outputs": [
        {
          "output_type": "execute_result",
          "data": {
            "text/plain": [
              "'Coat'"
            ],
            "application/vnd.google.colaboratory.intrinsic+json": {
              "type": "string"
            }
          },
          "metadata": {},
          "execution_count": 74
        }
      ],
      "source": [
        "class_names[y_train[0]]"
      ]
    },
    {
      "cell_type": "markdown",
      "metadata": {
        "id": "aFHwGRiIwwwY"
      },
      "source": [
        "The validation set contains 5,000 images, and the test set contains 10,000 images:"
      ]
    },
    {
      "cell_type": "code",
      "execution_count": 75,
      "metadata": {
        "id": "q7BjHSPmwwwZ",
        "outputId": "31e86a73-89f5-49e5-b609-6152745674d2",
        "colab": {
          "base_uri": "https://localhost:8080/"
        }
      },
      "outputs": [
        {
          "output_type": "execute_result",
          "data": {
            "text/plain": [
              "(5000, 28, 28)"
            ]
          },
          "metadata": {},
          "execution_count": 75
        }
      ],
      "source": [
        "X_valid.shape"
      ]
    },
    {
      "cell_type": "code",
      "execution_count": 76,
      "metadata": {
        "id": "VsErtXSnwwwZ",
        "outputId": "75338b55-25a2-4753-f8ed-f32b6e7f35e7",
        "colab": {
          "base_uri": "https://localhost:8080/"
        }
      },
      "outputs": [
        {
          "output_type": "execute_result",
          "data": {
            "text/plain": [
              "(10000, 28, 28)"
            ]
          },
          "metadata": {},
          "execution_count": 76
        }
      ],
      "source": [
        "X_test.shape"
      ]
    },
    {
      "cell_type": "markdown",
      "metadata": {
        "id": "--eEm0Smwwwa"
      },
      "source": [
        "Let's take a look at a sample of the images in the dataset:"
      ]
    },
    {
      "cell_type": "code",
      "execution_count": 77,
      "metadata": {
        "id": "KfOARTUowwwb",
        "outputId": "c0dfdddf-5c68-4523-8fd2-9c6c7e2f0736",
        "colab": {
          "base_uri": "https://localhost:8080/",
          "height": 308
        }
      },
      "outputs": [
        {
          "output_type": "display_data",
          "data": {
            "text/plain": [
              "<Figure size 864x345.6 with 40 Axes>"
            ],
            "image/png": "[encoded data removed]"
          },
          "metadata": {
            "needs_background": "light"
          }
        }
      ],
      "source": [
        "n_rows = 4\n",
        "n_cols = 10\n",
        "plt.figure(figsize=(n_cols * 1.2, n_rows * 1.2))\n",
        "for row in range(n_rows):\n",
        "    for col in range(n_cols):\n",
        "        index = n_cols * row + col\n",
        "        plt.subplot(n_rows, n_cols, index + 1)\n",
        "        plt.imshow(X_train[index], cmap=\"binary\", interpolation=\"nearest\")\n",
        "        plt.axis('off')\n",
        "        plt.title(class_names[y_train[index]], fontsize=12)\n",
        "plt.subplots_adjust(wspace=0.2, hspace=0.5)\n",
        "plt.show()"
      ]
    },
    {
      "cell_type": "markdown",
      "metadata": {
        "id": "RuouyzvWwwwb"
      },
      "source": [
        "## Construct a Model"
      ]
    },
    {
      "cell_type": "code",
      "execution_count": 78,
      "metadata": {
        "collapsed": true,
        "id": "FKnYEDJiwwwc"
      },
      "outputs": [],
      "source": [
        "model = keras.models.Sequential()\n",
        "model.add(keras.layers.Flatten(input_shape=[28, 28]))\n",
        "model.add(keras.layers.Dense(300, activation=\"relu\"))\n",
        "model.add(keras.layers.Dense(100, activation=\"relu\"))\n",
        "model.add(keras.layers.Dense(10, activation=\"softmax\"))"
      ]
    },
    {
      "cell_type": "code",
      "execution_count": 79,
      "metadata": {
        "collapsed": true,
        "id": "bjIEvaJOwwwc"
      },
      "outputs": [],
      "source": [
        "keras.backend.clear_session()\n",
        "np.random.seed(42)"
      ]
    },
    {
      "cell_type": "markdown",
      "metadata": {
        "id": "4N-VhOPwwwwc"
      },
      "source": [
        "### or using the folowing method"
      ]
    },
    {
      "cell_type": "code",
      "execution_count": 80,
      "metadata": {
        "collapsed": true,
        "id": "X7eRZjz1wwwd"
      },
      "outputs": [],
      "source": [
        "model = keras.models.Sequential([\n",
        "    keras.layers.Flatten(input_shape=[28, 28]),\n",
        "    keras.layers.Dense(300, activation=\"relu\"),\n",
        "    keras.layers.Dense(100, activation=\"relu\"),\n",
        "    keras.layers.Dense(10, activation=\"softmax\")\n",
        "])"
      ]
    },
    {
      "cell_type": "code",
      "execution_count": 81,
      "metadata": {
        "id": "uiYm9Sz1wwwd",
        "outputId": "8312eaab-248b-4626-8179-7d9895010c2d",
        "colab": {
          "base_uri": "https://localhost:8080/"
        }
      },
      "outputs": [
        {
          "output_type": "execute_result",
          "data": {
            "text/plain": [
              "[<keras.layers.core.flatten.Flatten at 0x7fd37dd2dbd0>,\n",
              " <keras.layers.core.dense.Dense at 0x7fd3723e89d0>,\n",
              " <keras.layers.core.dense.Dense at 0x7fd3723e8510>,\n",
              " <keras.layers.core.dense.Dense at 0x7fd37d7a8150>]"
            ]
          },
          "metadata": {},
          "execution_count": 81
        }
      ],
      "source": [
        "model.layers"
      ]
    },
    {
      "cell_type": "code",
      "execution_count": 82,
      "metadata": {
        "id": "gPUUopnnwwwe",
        "outputId": "72cee7b9-1b1c-4d9e-f817-1aeb415c60dc",
        "colab": {
          "base_uri": "https://localhost:8080/"
        }
      },
      "outputs": [
        {
          "output_type": "stream",
          "name": "stdout",
          "text": [
            "Model: \"sequential\"\n",
            "_________________________________________________________________\n",
            " Layer (type)                Output Shape              Param #   \n",
            "=================================================================\n",
            " flatten (Flatten)           (None, 784)               0         \n",
            "                                                                 \n",
            " dense (Dense)               (None, 300)               235500    \n",
            "                                                                 \n",
            " dense_1 (Dense)             (None, 100)               30100     \n",
            "                                                                 \n",
            " dense_2 (Dense)             (None, 10)                1010      \n",
            "                                                                 \n",
            "=================================================================\n",
            "Total params: 266,610\n",
            "Trainable params: 266,610\n",
            "Non-trainable params: 0\n",
            "_________________________________________________________________\n"
          ]
        }
      ],
      "source": [
        "model.summary()"
      ]
    },
    {
      "cell_type": "code",
      "execution_count": 83,
      "metadata": {
        "collapsed": true,
        "id": "hhFrh6rmwwwe"
      },
      "outputs": [],
      "source": [
        "#keras.utils.plot_model(model, \"my_mnist_model.png\", show_shapes=True)"
      ]
    },
    {
      "cell_type": "code",
      "execution_count": 84,
      "metadata": {
        "id": "FQ1MQH0Fwwwe",
        "outputId": "97e0ef21-615e-4f5a-bc5a-ee83341c4df9",
        "colab": {
          "base_uri": "https://localhost:8080/",
          "height": 35
        }
      },
      "outputs": [
        {
          "output_type": "execute_result",
          "data": {
            "text/plain": [
              "'dense'"
            ],
            "application/vnd.google.colaboratory.intrinsic+json": {
              "type": "string"
            }
          },
          "metadata": {},
          "execution_count": 84
        }
      ],
      "source": [
        "hidden1 = model.layers[1]\n",
        "hidden1.name"
      ]
    },
    {
      "cell_type": "code",
      "execution_count": 85,
      "metadata": {
        "id": "ivrA0WJzwwwf",
        "outputId": "741ea139-e527-4524-bb11-8edf34a86d22",
        "colab": {
          "base_uri": "https://localhost:8080/"
        }
      },
      "outputs": [
        {
          "output_type": "execute_result",
          "data": {
            "text/plain": [
              "True"
            ]
          },
          "metadata": {},
          "execution_count": 85
        }
      ],
      "source": [
        "model.get_layer(hidden1.name) is hidden1"
      ]
    },
    {
      "cell_type": "code",
      "execution_count": 86,
      "metadata": {
        "collapsed": true,
        "id": "u34aXCdCwwwf"
      },
      "outputs": [],
      "source": [
        "weights, biases = hidden1.get_weights()"
      ]
    },
    {
      "cell_type": "code",
      "execution_count": 87,
      "metadata": {
        "id": "gmwnPBBIwwwf",
        "outputId": "48056187-d6bf-4cfe-ac32-0644a9ca6e3a",
        "colab": {
          "base_uri": "https://localhost:8080/"
        }
      },
      "outputs": [
        {
          "output_type": "execute_result",
          "data": {
            "text/plain": [
              "array([[ 0.01200986, -0.06601295,  0.06254366, ..., -0.00449327,\n",
              "        -0.06298536,  0.01749772],\n",
              "       [ 0.04037467,  0.02157343,  0.04992378, ...,  0.03340643,\n",
              "         0.06106953,  0.05113204],\n",
              "       [-0.06242077,  0.0423476 , -0.02914558, ..., -0.01648794,\n",
              "         0.04517418, -0.0059198 ],\n",
              "       ...,\n",
              "       [ 0.07117085, -0.04060877,  0.04136132, ..., -0.00521786,\n",
              "         0.04552307, -0.04459676],\n",
              "       [ 0.04401688,  0.01941486,  0.04661807, ..., -0.06789868,\n",
              "         0.02686682, -0.05126208],\n",
              "       [-0.05761851,  0.06059977,  0.03182549, ..., -0.00918331,\n",
              "         0.03835   , -0.02371744]], dtype=float32)"
            ]
          },
          "metadata": {},
          "execution_count": 87
        }
      ],
      "source": [
        "weights"
      ]
    },
    {
      "cell_type": "code",
      "execution_count": 88,
      "metadata": {
        "id": "JrrYwBCBwwwg",
        "outputId": "0c4950e0-2601-4173-c63e-d52f28140210",
        "colab": {
          "base_uri": "https://localhost:8080/"
        }
      },
      "outputs": [
        {
          "output_type": "execute_result",
          "data": {
            "text/plain": [
              "(784, 300)"
            ]
          },
          "metadata": {},
          "execution_count": 88
        }
      ],
      "source": [
        "weights.shape"
      ]
    },
    {
      "cell_type": "code",
      "execution_count": 89,
      "metadata": {
        "id": "9bjQ1qPuwwwg",
        "outputId": "fee9eb9e-0f79-4cc9-f6b7-fd4504617f41",
        "colab": {
          "base_uri": "https://localhost:8080/"
        }
      },
      "outputs": [
        {
          "output_type": "execute_result",
          "data": {
            "text/plain": [
              "array([0., 0., 0., 0., 0., 0., 0., 0., 0., 0., 0., 0., 0., 0., 0., 0., 0.,\n",
              "       0., 0., 0., 0., 0., 0., 0., 0., 0., 0., 0., 0., 0., 0., 0., 0., 0.,\n",
              "       0., 0., 0., 0., 0., 0., 0., 0., 0., 0., 0., 0., 0., 0., 0., 0., 0.,\n",
              "       0., 0., 0., 0., 0., 0., 0., 0., 0., 0., 0., 0., 0., 0., 0., 0., 0.,\n",
              "       0., 0., 0., 0., 0., 0., 0., 0., 0., 0., 0., 0., 0., 0., 0., 0., 0.,\n",
              "       0., 0., 0., 0., 0., 0., 0., 0., 0., 0., 0., 0., 0., 0., 0., 0., 0.,\n",
              "       0., 0., 0., 0., 0., 0., 0., 0., 0., 0., 0., 0., 0., 0., 0., 0., 0.,\n",
              "       0., 0., 0., 0., 0., 0., 0., 0., 0., 0., 0., 0., 0., 0., 0., 0., 0.,\n",
              "       0., 0., 0., 0., 0., 0., 0., 0., 0., 0., 0., 0., 0., 0., 0., 0., 0.,\n",
              "       0., 0., 0., 0., 0., 0., 0., 0., 0., 0., 0., 0., 0., 0., 0., 0., 0.,\n",
              "       0., 0., 0., 0., 0., 0., 0., 0., 0., 0., 0., 0., 0., 0., 0., 0., 0.,\n",
              "       0., 0., 0., 0., 0., 0., 0., 0., 0., 0., 0., 0., 0., 0., 0., 0., 0.,\n",
              "       0., 0., 0., 0., 0., 0., 0., 0., 0., 0., 0., 0., 0., 0., 0., 0., 0.,\n",
              "       0., 0., 0., 0., 0., 0., 0., 0., 0., 0., 0., 0., 0., 0., 0., 0., 0.,\n",
              "       0., 0., 0., 0., 0., 0., 0., 0., 0., 0., 0., 0., 0., 0., 0., 0., 0.,\n",
              "       0., 0., 0., 0., 0., 0., 0., 0., 0., 0., 0., 0., 0., 0., 0., 0., 0.,\n",
              "       0., 0., 0., 0., 0., 0., 0., 0., 0., 0., 0., 0., 0., 0., 0., 0., 0.,\n",
              "       0., 0., 0., 0., 0., 0., 0., 0., 0., 0., 0.], dtype=float32)"
            ]
          },
          "metadata": {},
          "execution_count": 89
        }
      ],
      "source": [
        "biases"
      ]
    },
    {
      "cell_type": "code",
      "execution_count": 90,
      "metadata": {
        "id": "2BhQqVLywwwl",
        "outputId": "b0de7514-3854-4af7-c0df-5a3547454fa9",
        "colab": {
          "base_uri": "https://localhost:8080/"
        }
      },
      "outputs": [
        {
          "output_type": "execute_result",
          "data": {
            "text/plain": [
              "(300,)"
            ]
          },
          "metadata": {},
          "execution_count": 90
        }
      ],
      "source": [
        "biases.shape"
      ]
    },
    {
      "cell_type": "markdown",
      "metadata": {
        "id": "jSIxzo5Dwwwm"
      },
      "source": [
        "### Compile the Model\n",
        "Here you can chose the loss function, the optimizer, the performance metric, etc. check Keras documentation for further details."
      ]
    },
    {
      "cell_type": "code",
      "execution_count": 91,
      "metadata": {
        "collapsed": true,
        "id": "CaHb3Or7wwwm"
      },
      "outputs": [],
      "source": [
        "model.compile(loss=\"sparse_categorical_crossentropy\",\n",
        "              optimizer=\"sgd\",\n",
        "              metrics=[\"accuracy\"])"
      ]
    },
    {
      "cell_type": "markdown",
      "metadata": {
        "id": "AXPcvbL0wwwo"
      },
      "source": [
        "This is equivalent to:"
      ]
    },
    {
      "cell_type": "markdown",
      "metadata": {
        "id": "RMrnPI07wwwo"
      },
      "source": [
        "```python\n",
        "model.compile(loss=keras.losses.sparse_categorical_crossentropy,\n",
        "              optimizer=keras.optimizers.SGD(),\n",
        "              metrics=[keras.metrics.sparse_categorical_accuracy])\n",
        "```"
      ]
    },
    {
      "cell_type": "markdown",
      "metadata": {
        "id": "U3lrlhxtwwwp"
      },
      "source": [
        "### Train the model\n",
        "Here you can chose how many epochs you need and the batch size."
      ]
    },
    {
      "cell_type": "code",
      "execution_count": 92,
      "metadata": {
        "id": "RNVVcjqVwwwp",
        "outputId": "b3f5f0da-ab7d-40f1-d49c-db5fbfaed130",
        "colab": {
          "base_uri": "https://localhost:8080/"
        }
      },
      "outputs": [
        {
          "output_type": "stream",
          "name": "stdout",
          "text": [
            "Epoch 1/30\n",
            "1719/1719 [==============================] - 6s 3ms/step - loss: 0.7242 - accuracy: 0.7645 - val_loss: 0.5247 - val_accuracy: 0.8236\n",
            "Epoch 2/30\n",
            "1719/1719 [==============================] - 6s 3ms/step - loss: 0.4937 - accuracy: 0.8298 - val_loss: 0.4620 - val_accuracy: 0.8450\n",
            "Epoch 3/30\n",
            "1719/1719 [==============================] - 6s 3ms/step - loss: 0.4477 - accuracy: 0.8437 - val_loss: 0.4291 - val_accuracy: 0.8538\n",
            "Epoch 4/30\n",
            "1719/1719 [==============================] - 6s 3ms/step - loss: 0.4189 - accuracy: 0.8536 - val_loss: 0.3958 - val_accuracy: 0.8656\n",
            "Epoch 5/30\n",
            "1719/1719 [==============================] - 6s 3ms/step - loss: 0.3987 - accuracy: 0.8593 - val_loss: 0.3838 - val_accuracy: 0.8660\n",
            "Epoch 6/30\n",
            "1719/1719 [==============================] - 6s 3ms/step - loss: 0.3815 - accuracy: 0.8657 - val_loss: 0.3751 - val_accuracy: 0.8692\n",
            "Epoch 7/30\n",
            "1719/1719 [==============================] - 6s 3ms/step - loss: 0.3675 - accuracy: 0.8703 - val_loss: 0.3655 - val_accuracy: 0.8692\n",
            "Epoch 8/30\n",
            "1719/1719 [==============================] - 6s 3ms/step - loss: 0.3557 - accuracy: 0.8738 - val_loss: 0.3561 - val_accuracy: 0.8778\n",
            "Epoch 9/30\n",
            "1719/1719 [==============================] - 6s 3ms/step - loss: 0.3462 - accuracy: 0.8776 - val_loss: 0.3436 - val_accuracy: 0.8820\n",
            "Epoch 10/30\n",
            "1719/1719 [==============================] - 6s 3ms/step - loss: 0.3355 - accuracy: 0.8808 - val_loss: 0.3723 - val_accuracy: 0.8646\n",
            "Epoch 11/30\n",
            "1719/1719 [==============================] - 6s 3ms/step - loss: 0.3275 - accuracy: 0.8838 - val_loss: 0.3447 - val_accuracy: 0.8780\n",
            "Epoch 12/30\n",
            "1719/1719 [==============================] - 6s 3ms/step - loss: 0.3191 - accuracy: 0.8854 - val_loss: 0.3341 - val_accuracy: 0.8830\n",
            "Epoch 13/30\n",
            "1719/1719 [==============================] - 6s 3ms/step - loss: 0.3126 - accuracy: 0.8875 - val_loss: 0.3311 - val_accuracy: 0.8868\n",
            "Epoch 14/30\n",
            "1719/1719 [==============================] - 6s 3ms/step - loss: 0.3064 - accuracy: 0.8891 - val_loss: 0.3271 - val_accuracy: 0.8844\n",
            "Epoch 15/30\n",
            "1719/1719 [==============================] - 6s 3ms/step - loss: 0.2987 - accuracy: 0.8932 - val_loss: 0.3256 - val_accuracy: 0.8876\n",
            "Epoch 16/30\n",
            "1719/1719 [==============================] - 6s 3ms/step - loss: 0.2936 - accuracy: 0.8950 - val_loss: 0.3393 - val_accuracy: 0.8736\n",
            "Epoch 17/30\n",
            "1719/1719 [==============================] - 6s 3ms/step - loss: 0.2868 - accuracy: 0.8972 - val_loss: 0.3115 - val_accuracy: 0.8888\n",
            "Epoch 18/30\n",
            "1719/1719 [==============================] - 6s 3ms/step - loss: 0.2820 - accuracy: 0.8994 - val_loss: 0.3206 - val_accuracy: 0.8796\n",
            "Epoch 19/30\n",
            "1719/1719 [==============================] - 6s 3ms/step - loss: 0.2763 - accuracy: 0.8989 - val_loss: 0.3139 - val_accuracy: 0.8884\n",
            "Epoch 20/30\n",
            "1719/1719 [==============================] - 6s 3ms/step - loss: 0.2709 - accuracy: 0.9021 - val_loss: 0.3180 - val_accuracy: 0.8880\n",
            "Epoch 21/30\n",
            "1719/1719 [==============================] - 6s 3ms/step - loss: 0.2662 - accuracy: 0.9047 - val_loss: 0.3163 - val_accuracy: 0.8858\n",
            "Epoch 22/30\n",
            "1719/1719 [==============================] - 6s 3ms/step - loss: 0.2621 - accuracy: 0.9056 - val_loss: 0.3241 - val_accuracy: 0.8852\n",
            "Epoch 23/30\n",
            "1719/1719 [==============================] - 6s 3ms/step - loss: 0.2565 - accuracy: 0.9075 - val_loss: 0.3058 - val_accuracy: 0.8916\n",
            "Epoch 24/30\n",
            "1719/1719 [==============================] - 6s 3ms/step - loss: 0.2526 - accuracy: 0.9099 - val_loss: 0.3098 - val_accuracy: 0.8864\n",
            "Epoch 25/30\n",
            "1719/1719 [==============================] - 6s 3ms/step - loss: 0.2478 - accuracy: 0.9102 - val_loss: 0.2965 - val_accuracy: 0.8916\n",
            "Epoch 26/30\n",
            "1719/1719 [==============================] - 6s 3ms/step - loss: 0.2443 - accuracy: 0.9125 - val_loss: 0.3091 - val_accuracy: 0.8882\n",
            "Epoch 27/30\n",
            "1719/1719 [==============================] - 6s 3ms/step - loss: 0.2392 - accuracy: 0.9142 - val_loss: 0.3079 - val_accuracy: 0.8884\n",
            "Epoch 28/30\n",
            "1719/1719 [==============================] - 6s 3ms/step - loss: 0.2362 - accuracy: 0.9147 - val_loss: 0.3093 - val_accuracy: 0.8932\n",
            "Epoch 29/30\n",
            "1719/1719 [==============================] - 6s 3ms/step - loss: 0.2316 - accuracy: 0.9170 - val_loss: 0.2928 - val_accuracy: 0.8934\n",
            "Epoch 30/30\n",
            "1719/1719 [==============================] - 6s 3ms/step - loss: 0.2276 - accuracy: 0.9192 - val_loss: 0.3009 - val_accuracy: 0.8908\n"
          ]
        }
      ],
      "source": [
        "history = model.fit(X_train, y_train, batch_size=32, epochs=30,\n",
        "                    validation_data=(X_valid, y_valid))"
      ]
    },
    {
      "cell_type": "code",
      "execution_count": 93,
      "metadata": {
        "id": "C2dFY8RDwwwp",
        "outputId": "84ecc3d6-8f29-47bb-b64d-b27faa4e88be",
        "colab": {
          "base_uri": "https://localhost:8080/"
        }
      },
      "outputs": [
        {
          "output_type": "execute_result",
          "data": {
            "text/plain": [
              "{'epochs': 30, 'steps': 1719, 'verbose': 1}"
            ]
          },
          "metadata": {},
          "execution_count": 93
        }
      ],
      "source": [
        "history.params"
      ]
    },
    {
      "cell_type": "code",
      "execution_count": 94,
      "metadata": {
        "id": "P1qhn9-fwwwq",
        "outputId": "87921687-3667-4832-fbdd-2a9559f1b5ef",
        "colab": {
          "base_uri": "https://localhost:8080/"
        }
      },
      "outputs": [
        {
          "output_type": "stream",
          "name": "stdout",
          "text": [
            "[0, 1, 2, 3, 4, 5, 6, 7, 8, 9, 10, 11, 12, 13, 14, 15, 16, 17, 18, 19, 20, 21, 22, 23, 24, 25, 26, 27, 28, 29]\n"
          ]
        }
      ],
      "source": [
        "print(history.epoch)"
      ]
    },
    {
      "cell_type": "code",
      "execution_count": 95,
      "metadata": {
        "id": "E63Iptm3wwwq",
        "outputId": "6d0888da-8071-4455-a55e-1459ba640ab9",
        "colab": {
          "base_uri": "https://localhost:8080/"
        }
      },
      "outputs": [
        {
          "output_type": "execute_result",
          "data": {
            "text/plain": [
              "dict_keys(['loss', 'accuracy', 'val_loss', 'val_accuracy'])"
            ]
          },
          "metadata": {},
          "execution_count": 95
        }
      ],
      "source": [
        "history.history.keys()"
      ]
    },
    {
      "cell_type": "markdown",
      "metadata": {
        "id": "mdnzJwDewwwr"
      },
      "source": [
        "### Plot learning Curves"
      ]
    },
    {
      "cell_type": "code",
      "execution_count": 96,
      "metadata": {
        "id": "O2oh9_7lwwwr",
        "outputId": "a03763bf-1579-46d6-8752-988370e5f85c",
        "colab": {
          "base_uri": "https://localhost:8080/",
          "height": 328
        }
      },
      "outputs": [
        {
          "output_type": "display_data",
          "data": {
            "text/plain": [
              "<Figure size 576x360 with 1 Axes>"
            ],
            "image/png": "[encoded data removed]"
          },
          "metadata": {
            "needs_background": "light"
          }
        }
      ],
      "source": [
        "import pandas as pd\n",
        "\n",
        "pd.DataFrame(history.history).plot(figsize=(8, 5))\n",
        "plt.grid(True)\n",
        "plt.gca().set_ylim(0, 1)\n",
        "plt.show()"
      ]
    },
    {
      "cell_type": "code",
      "execution_count": 97,
      "metadata": {
        "id": "ec84JbHywwws",
        "outputId": "e2c8ebd4-9831-45ae-d61f-d48506f377be",
        "colab": {
          "base_uri": "https://localhost:8080/"
        }
      },
      "outputs": [
        {
          "output_type": "stream",
          "name": "stdout",
          "text": [
            "313/313 [==============================] - 1s 2ms/step - loss: 0.3400 - accuracy: 0.8733\n"
          ]
        },
        {
          "output_type": "execute_result",
          "data": {
            "text/plain": [
              "[0.3400338888168335, 0.8733000159263611]"
            ]
          },
          "metadata": {},
          "execution_count": 97
        }
      ],
      "source": [
        "model.evaluate(X_test, y_test)"
      ]
    },
    {
      "cell_type": "code",
      "execution_count": 98,
      "metadata": {
        "id": "yJqP5Ofawwws",
        "outputId": "9b31f7b3-44f6-4223-ce77-452a2f480b0c",
        "colab": {
          "base_uri": "https://localhost:8080/"
        }
      },
      "outputs": [
        {
          "output_type": "execute_result",
          "data": {
            "text/plain": [
              "array([[0.  , 0.  , 0.  , 0.  , 0.  , 0.  , 0.  , 0.02, 0.  , 0.98],\n",
              "       [0.  , 0.  , 0.99, 0.  , 0.01, 0.  , 0.  , 0.  , 0.  , 0.  ],\n",
              "       [0.  , 1.  , 0.  , 0.  , 0.  , 0.  , 0.  , 0.  , 0.  , 0.  ]],\n",
              "      dtype=float32)"
            ]
          },
          "metadata": {},
          "execution_count": 98
        }
      ],
      "source": [
        "X_new = X_test[:3]\n",
        "y_proba = model.predict(X_new)\n",
        "y_proba.round(2)"
      ]
    },
    {
      "cell_type": "code",
      "execution_count": 99,
      "metadata": {
        "id": "mZ1cV8Kpwwws",
        "outputId": "edffab31-a83a-4eba-8118-b0a34249b0da",
        "colab": {
          "base_uri": "https://localhost:8080/"
        }
      },
      "outputs": [
        {
          "output_type": "execute_result",
          "data": {
            "text/plain": [
              "array([[3.8351850e-06, 1.1409325e-06, 1.3238457e-06, 2.4969773e-07,\n",
              "        1.8506238e-06, 3.1097876e-03, 8.8532588e-06, 2.0623313e-02,\n",
              "        9.6550204e-05, 9.7615302e-01],\n",
              "       [8.8181669e-06, 3.8069235e-08, 9.8987120e-01, 3.9231769e-09,\n",
              "        8.3756568e-03, 1.0451083e-10, 1.7443594e-03, 4.6512731e-11,\n",
              "        2.6514179e-08, 5.3091633e-12],\n",
              "       [7.1512238e-07, 9.9999797e-01, 1.9520024e-07, 6.5411876e-07,\n",
              "        3.7363088e-07, 3.3377374e-12, 1.6088509e-09, 2.2987119e-09,\n",
              "        6.3003869e-10, 1.0099078e-11]], dtype=float32)"
            ]
          },
          "metadata": {},
          "execution_count": 99
        }
      ],
      "source": [
        "y_pred = model.predict(X_new)\n",
        "y_pred"
      ]
    },
    {
      "cell_type": "code",
      "execution_count": null,
      "metadata": {
        "id": "F8r6Dqmcwwwt"
      },
      "outputs": [],
      "source": [
        "#np.array([])[y_pred]"
      ]
    },
    {
      "cell_type": "code",
      "execution_count": 100,
      "metadata": {
        "id": "Ox4HNFN7wwwt",
        "outputId": "014db11a-e8a1-4785-b2d3-5a0bfcd4e783",
        "colab": {
          "base_uri": "https://localhost:8080/"
        }
      },
      "outputs": [
        {
          "output_type": "execute_result",
          "data": {
            "text/plain": [
              "array([9, 2, 1], dtype=uint8)"
            ]
          },
          "metadata": {},
          "execution_count": 100
        }
      ],
      "source": [
        "y_new = y_test[:3]\n",
        "y_new"
      ]
    },
    {
      "cell_type": "code",
      "execution_count": 101,
      "metadata": {
        "id": "SYBNr0-Cwwwt",
        "outputId": "1bc73a2c-d538-4cf7-a189-945d53ea7fc6",
        "colab": {
          "base_uri": "https://localhost:8080/",
          "height": 165
        }
      },
      "outputs": [
        {
          "output_type": "display_data",
          "data": {
            "text/plain": [
              "<Figure size 518.4x172.8 with 3 Axes>"
            ],
            "image/png": "[encoded data removed]"
          },
          "metadata": {
            "needs_background": "light"
          }
        }
      ],
      "source": [
        "plt.figure(figsize=(7.2, 2.4))\n",
        "for index, image in enumerate(X_new):\n",
        "    plt.subplot(1, 3, index + 1)\n",
        "    plt.imshow(image, cmap=\"binary\", interpolation=\"nearest\")\n",
        "    plt.axis('off')\n",
        "    plt.title(class_names[y_test[index]], fontsize=12)\n",
        "plt.subplots_adjust(wspace=0.2, hspace=0.5)\n",
        "plt.show()"
      ]
    },
    {
      "cell_type": "markdown",
      "metadata": {
        "collapsed": true,
        "id": "mEkF-Ew6wwwu"
      },
      "source": [
        "## Exercise"
      ]
    },
    {
      "cell_type": "markdown",
      "metadata": {
        "id": "Y_Ps8UlRwwwu"
      },
      "source": [
        "#### 1) Plot Learning curves when using different optimizers\n",
        "#### 2) Plot Learning curves when using different batch size\n",
        "#### 3) Plot Learning curves when using different number of epochs\n",
        "#### 4) Add additional neurons and use Dropout Layer. Plot Learning curves.\n",
        "#### 5) Use Batch Normalisation\n",
        "#### 6) repeat with more layers\n",
        "#### 7) apply on different datasets"
      ]
    },
    {
      "cell_type": "code",
      "execution_count": 102,
      "metadata": {
        "collapsed": true,
        "id": "I9MBrIJrwwwu",
        "outputId": "5ba0db88-d4ac-41db-f5f4-69c907ada922",
        "colab": {
          "base_uri": "https://localhost:8080/"
        }
      },
      "outputs": [
        {
          "output_type": "stream",
          "name": "stdout",
          "text": [
            "Epoch 1/30\n",
            "1719/1719 [==============================] - 9s 5ms/step - loss: 0.5024 - accuracy: 0.8191 - val_loss: 0.3734 - val_accuracy: 0.8672\n",
            "Epoch 2/30\n",
            "1719/1719 [==============================] - 8s 5ms/step - loss: 0.3912 - accuracy: 0.8601 - val_loss: 0.5221 - val_accuracy: 0.8074\n",
            "Epoch 3/30\n",
            "1719/1719 [==============================] - 9s 5ms/step - loss: 0.3674 - accuracy: 0.8711 - val_loss: 0.4174 - val_accuracy: 0.8658\n",
            "Epoch 4/30\n",
            "1719/1719 [==============================] - 9s 5ms/step - loss: 0.3537 - accuracy: 0.8767 - val_loss: 0.4086 - val_accuracy: 0.8786\n",
            "Epoch 5/30\n",
            "1719/1719 [==============================] - 9s 5ms/step - loss: 0.3461 - accuracy: 0.8821 - val_loss: 0.4174 - val_accuracy: 0.8706\n",
            "Epoch 6/30\n",
            "1719/1719 [==============================] - 9s 5ms/step - loss: 0.3337 - accuracy: 0.8848 - val_loss: 0.4121 - val_accuracy: 0.8820\n",
            "Epoch 7/30\n",
            "1719/1719 [==============================] - 9s 5ms/step - loss: 0.3292 - accuracy: 0.8872 - val_loss: 0.4443 - val_accuracy: 0.8834\n",
            "Epoch 8/30\n",
            "1719/1719 [==============================] - 9s 5ms/step - loss: 0.3232 - accuracy: 0.8915 - val_loss: 0.4910 - val_accuracy: 0.8770\n",
            "Epoch 9/30\n",
            "1719/1719 [==============================] - 9s 5ms/step - loss: 0.3181 - accuracy: 0.8929 - val_loss: 0.5127 - val_accuracy: 0.8864\n",
            "Epoch 10/30\n",
            "1719/1719 [==============================] - 9s 5ms/step - loss: 0.3097 - accuracy: 0.8955 - val_loss: 0.5384 - val_accuracy: 0.8856\n",
            "Epoch 11/30\n",
            "1719/1719 [==============================] - 9s 5ms/step - loss: 0.3057 - accuracy: 0.8972 - val_loss: 0.5346 - val_accuracy: 0.8778\n",
            "Epoch 12/30\n",
            "1719/1719 [==============================] - 9s 5ms/step - loss: 0.3051 - accuracy: 0.8993 - val_loss: 0.4961 - val_accuracy: 0.8850\n",
            "Epoch 13/30\n",
            "1719/1719 [==============================] - 9s 5ms/step - loss: 0.2968 - accuracy: 0.9011 - val_loss: 0.5145 - val_accuracy: 0.8840\n",
            "Epoch 14/30\n",
            "1719/1719 [==============================] - 9s 5ms/step - loss: 0.2943 - accuracy: 0.9033 - val_loss: 0.5491 - val_accuracy: 0.8882\n",
            "Epoch 15/30\n",
            "1719/1719 [==============================] - 9s 5ms/step - loss: 0.2915 - accuracy: 0.9041 - val_loss: 0.5778 - val_accuracy: 0.8832\n",
            "Epoch 16/30\n",
            "1719/1719 [==============================] - 9s 5ms/step - loss: 0.2851 - accuracy: 0.9063 - val_loss: 0.5899 - val_accuracy: 0.8874\n",
            "Epoch 17/30\n",
            "1719/1719 [==============================] - 9s 5ms/step - loss: 0.2809 - accuracy: 0.9068 - val_loss: 0.6120 - val_accuracy: 0.8888\n",
            "Epoch 18/30\n",
            "1719/1719 [==============================] - 9s 5ms/step - loss: 0.2798 - accuracy: 0.9078 - val_loss: 0.6732 - val_accuracy: 0.8884\n",
            "Epoch 19/30\n",
            "1719/1719 [==============================] - 9s 5ms/step - loss: 0.2734 - accuracy: 0.9107 - val_loss: 0.6827 - val_accuracy: 0.8858\n",
            "Epoch 20/30\n",
            "1719/1719 [==============================] - 9s 5ms/step - loss: 0.2690 - accuracy: 0.9110 - val_loss: 0.7290 - val_accuracy: 0.8848\n",
            "Epoch 21/30\n",
            "1719/1719 [==============================] - 9s 5ms/step - loss: 0.2717 - accuracy: 0.9117 - val_loss: 0.7746 - val_accuracy: 0.8836\n",
            "Epoch 22/30\n",
            "1719/1719 [==============================] - 9s 5ms/step - loss: 0.2676 - accuracy: 0.9139 - val_loss: 0.7539 - val_accuracy: 0.8854\n",
            "Epoch 23/30\n",
            "1719/1719 [==============================] - 9s 5ms/step - loss: 0.2598 - accuracy: 0.9151 - val_loss: 0.7308 - val_accuracy: 0.8882\n",
            "Epoch 24/30\n",
            "1719/1719 [==============================] - 9s 5ms/step - loss: 0.2619 - accuracy: 0.9165 - val_loss: 0.8192 - val_accuracy: 0.8824\n",
            "Epoch 25/30\n",
            "1719/1719 [==============================] - 9s 5ms/step - loss: 0.2608 - accuracy: 0.9157 - val_loss: 0.8648 - val_accuracy: 0.8742\n",
            "Epoch 26/30\n",
            "1719/1719 [==============================] - 9s 5ms/step - loss: 0.2585 - accuracy: 0.9190 - val_loss: 0.8873 - val_accuracy: 0.8892\n",
            "Epoch 27/30\n",
            "1719/1719 [==============================] - 9s 5ms/step - loss: 0.2574 - accuracy: 0.9185 - val_loss: 0.8641 - val_accuracy: 0.8836\n",
            "Epoch 28/30\n",
            "1719/1719 [==============================] - 9s 5ms/step - loss: 0.2517 - accuracy: 0.9200 - val_loss: 0.8459 - val_accuracy: 0.8822\n",
            "Epoch 29/30\n",
            "1719/1719 [==============================] - 9s 5ms/step - loss: 0.2512 - accuracy: 0.9198 - val_loss: 0.9004 - val_accuracy: 0.8920\n",
            "Epoch 30/30\n",
            "1719/1719 [==============================] - 9s 5ms/step - loss: 0.2470 - accuracy: 0.9213 - val_loss: 0.9306 - val_accuracy: 0.8912\n",
            "Epoch 1/30\n",
            "1719/1719 [==============================] - 7s 4ms/step - loss: 0.4833 - accuracy: 0.8264 - val_loss: 0.4360 - val_accuracy: 0.8466\n",
            "Epoch 2/30\n",
            "1719/1719 [==============================] - 7s 4ms/step - loss: 0.3664 - accuracy: 0.8645 - val_loss: 0.3431 - val_accuracy: 0.8770\n",
            "Epoch 3/30\n",
            "1719/1719 [==============================] - 7s 4ms/step - loss: 0.3289 - accuracy: 0.8768 - val_loss: 0.3224 - val_accuracy: 0.8868\n",
            "Epoch 4/30\n",
            "1719/1719 [==============================] - 7s 4ms/step - loss: 0.3029 - accuracy: 0.8867 - val_loss: 0.3132 - val_accuracy: 0.8874\n",
            "Epoch 5/30\n",
            "1719/1719 [==============================] - 7s 4ms/step - loss: 0.2862 - accuracy: 0.8933 - val_loss: 0.3065 - val_accuracy: 0.8858\n",
            "Epoch 6/30\n",
            "1719/1719 [==============================] - 7s 4ms/step - loss: 0.2706 - accuracy: 0.8983 - val_loss: 0.3525 - val_accuracy: 0.8752\n",
            "Epoch 7/30\n",
            "1719/1719 [==============================] - 7s 4ms/step - loss: 0.2583 - accuracy: 0.9019 - val_loss: 0.3216 - val_accuracy: 0.8892\n",
            "Epoch 8/30\n",
            "1719/1719 [==============================] - 7s 4ms/step - loss: 0.2454 - accuracy: 0.9062 - val_loss: 0.3305 - val_accuracy: 0.8874\n",
            "Epoch 9/30\n",
            "1719/1719 [==============================] - 7s 4ms/step - loss: 0.2378 - accuracy: 0.9113 - val_loss: 0.2919 - val_accuracy: 0.8942\n",
            "Epoch 10/30\n",
            "1719/1719 [==============================] - 7s 4ms/step - loss: 0.2265 - accuracy: 0.9135 - val_loss: 0.3055 - val_accuracy: 0.8936\n",
            "Epoch 11/30\n",
            "1719/1719 [==============================] - 7s 4ms/step - loss: 0.2181 - accuracy: 0.9166 - val_loss: 0.2996 - val_accuracy: 0.8956\n",
            "Epoch 12/30\n",
            "1719/1719 [==============================] - 7s 4ms/step - loss: 0.2091 - accuracy: 0.9184 - val_loss: 0.2994 - val_accuracy: 0.8982\n",
            "Epoch 13/30\n",
            "1719/1719 [==============================] - 7s 4ms/step - loss: 0.2025 - accuracy: 0.9221 - val_loss: 0.3189 - val_accuracy: 0.8962\n",
            "Epoch 14/30\n",
            "1719/1719 [==============================] - 7s 4ms/step - loss: 0.1977 - accuracy: 0.9235 - val_loss: 0.3101 - val_accuracy: 0.8940\n",
            "Epoch 15/30\n",
            "1719/1719 [==============================] - 7s 4ms/step - loss: 0.1903 - accuracy: 0.9269 - val_loss: 0.3241 - val_accuracy: 0.8952\n",
            "Epoch 16/30\n",
            "1719/1719 [==============================] - 7s 4ms/step - loss: 0.1828 - accuracy: 0.9305 - val_loss: 0.3269 - val_accuracy: 0.9010\n",
            "Epoch 17/30\n",
            "1719/1719 [==============================] - 7s 4ms/step - loss: 0.1773 - accuracy: 0.9312 - val_loss: 0.3689 - val_accuracy: 0.8976\n",
            "Epoch 18/30\n",
            "1719/1719 [==============================] - 7s 4ms/step - loss: 0.1719 - accuracy: 0.9352 - val_loss: 0.3480 - val_accuracy: 0.8968\n",
            "Epoch 19/30\n",
            "1719/1719 [==============================] - 7s 4ms/step - loss: 0.1659 - accuracy: 0.9362 - val_loss: 0.3340 - val_accuracy: 0.8914\n",
            "Epoch 20/30\n",
            "1719/1719 [==============================] - 7s 4ms/step - loss: 0.1632 - accuracy: 0.9376 - val_loss: 0.3476 - val_accuracy: 0.8974\n",
            "Epoch 21/30\n",
            "1719/1719 [==============================] - 6s 4ms/step - loss: 0.1581 - accuracy: 0.9390 - val_loss: 0.3938 - val_accuracy: 0.8920\n",
            "Epoch 22/30\n",
            "1719/1719 [==============================] - 6s 4ms/step - loss: 0.1520 - accuracy: 0.9426 - val_loss: 0.3850 - val_accuracy: 0.8862\n",
            "Epoch 23/30\n",
            "1719/1719 [==============================] - 7s 4ms/step - loss: 0.1494 - accuracy: 0.9430 - val_loss: 0.3753 - val_accuracy: 0.8992\n",
            "Epoch 24/30\n",
            "1719/1719 [==============================] - 7s 4ms/step - loss: 0.1477 - accuracy: 0.9439 - val_loss: 0.3944 - val_accuracy: 0.8934\n",
            "Epoch 25/30\n",
            "1719/1719 [==============================] - 7s 4ms/step - loss: 0.1411 - accuracy: 0.9453 - val_loss: 0.4005 - val_accuracy: 0.8972\n",
            "Epoch 26/30\n",
            "1719/1719 [==============================] - 7s 4ms/step - loss: 0.1347 - accuracy: 0.9476 - val_loss: 0.3922 - val_accuracy: 0.8938\n",
            "Epoch 27/30\n",
            "1719/1719 [==============================] - 7s 4ms/step - loss: 0.1348 - accuracy: 0.9477 - val_loss: 0.3891 - val_accuracy: 0.8972\n",
            "Epoch 28/30\n",
            "1719/1719 [==============================] - 7s 4ms/step - loss: 0.1344 - accuracy: 0.9483 - val_loss: 0.4080 - val_accuracy: 0.8984\n",
            "Epoch 29/30\n",
            "1719/1719 [==============================] - 7s 4ms/step - loss: 0.1255 - accuracy: 0.9514 - val_loss: 0.4277 - val_accuracy: 0.8968\n",
            "Epoch 30/30\n",
            "1719/1719 [==============================] - 7s 4ms/step - loss: 0.1265 - accuracy: 0.9514 - val_loss: 0.4249 - val_accuracy: 0.8974\n"
          ]
        }
      ],
      "source": [
        "#1\n",
        "list_optimizers = [\"rmsprop\" , \"adam\" ] \n",
        "list_history = []\n",
        "for optim in list_optimizers :\n",
        "    model = keras.models.Sequential([\n",
        "    keras.layers.Flatten(input_shape=[28, 28]),\n",
        "    keras.layers.Dense(300, activation=\"relu\"),\n",
        "    keras.layers.Dense(100, activation=\"relu\"),\n",
        "    keras.layers.Dense(10, activation=\"softmax\")\n",
        "    ])\n",
        "    model.compile(loss=\"sparse_categorical_crossentropy\",\n",
        "                  optimizer=optim,\n",
        "                  metrics=[\"accuracy\"])\n",
        "    history = model.fit(X_train, y_train, batch_size=32, epochs=30,\n",
        "                        validation_data=(X_valid, y_valid))\n",
        "    list_history.append(history)\n",
        "    "
      ]
    },
    {
      "cell_type": "code",
      "source": [
        "fig = plt.figure(figsize = (16,8))\n",
        "fig.subplots_adjust(hspace=0.4, wspace=0.4)\n",
        "for i in range(1, 3):\n",
        "    ax = fig.add_subplot(1, 2, i)\n",
        "    ax.plot(pd.DataFrame(list_history[i-1].history))\n",
        "    plt.title(list_optimizers[i-1])\n",
        "    plt.grid(True)\n",
        "    plt.gca().set_ylim(0, 1)\n",
        "plt.show()"
      ],
      "metadata": {
        "id": "INTCyvgP2ncb",
        "outputId": "8b2e399a-e09e-472a-e69a-d6e63bea7bec",
        "colab": {
          "base_uri": "https://localhost:8080/",
          "height": 461
        }
      },
      "execution_count": 103,
      "outputs": [
        {
          "output_type": "display_data",
          "data": {
            "text/plain": [
              "<Figure size 1152x576 with 2 Axes>"
            ],
            "image/png": "[encoded data removed]"
          },
          "metadata": {
            "needs_background": "light"
          }
        }
      ]
    },
    {
      "cell_type": "code",
      "source": [
        "#2\n",
        "list_history = []\n",
        "for i in range(5,8) :\n",
        "    model = keras.models.Sequential([\n",
        "    keras.layers.Flatten(input_shape=[28, 28]),\n",
        "    keras.layers.Dense(300, activation=\"relu\"),\n",
        "    keras.layers.Dense(100, activation=\"relu\"),\n",
        "    keras.layers.Dense(10, activation=\"softmax\")\n",
        "    ])\n",
        "    model.compile(loss=\"sparse_categorical_crossentropy\",\n",
        "                  optimizer=\"sgd\",\n",
        "                  metrics=[\"accuracy\"])\n",
        "    history = model.fit(X_train, y_train, batch_size = 2**i , epochs=30,\n",
        "                        validation_data=(X_valid, y_valid))\n",
        "    list_history.append(history)"
      ],
      "metadata": {
        "id": "K0J-pEFN282Z",
        "outputId": "b6c90a72-b4d1-4a4d-e306-6edac3d58d35",
        "colab": {
          "base_uri": "https://localhost:8080/"
        }
      },
      "execution_count": 104,
      "outputs": [
        {
          "output_type": "stream",
          "name": "stdout",
          "text": [
            "Epoch 1/30\n",
            "1719/1719 [==============================] - 7s 4ms/step - loss: 0.7190 - accuracy: 0.7640 - val_loss: 0.5013 - val_accuracy: 0.8344\n",
            "Epoch 2/30\n",
            "1719/1719 [==============================] - 6s 3ms/step - loss: 0.4878 - accuracy: 0.8310 - val_loss: 0.4849 - val_accuracy: 0.8284\n",
            "Epoch 3/30\n",
            "1719/1719 [==============================] - 6s 3ms/step - loss: 0.4431 - accuracy: 0.8446 - val_loss: 0.4079 - val_accuracy: 0.8622\n",
            "Epoch 4/30\n",
            "1719/1719 [==============================] - 6s 3ms/step - loss: 0.4160 - accuracy: 0.8547 - val_loss: 0.4068 - val_accuracy: 0.8590\n",
            "Epoch 5/30\n",
            "1719/1719 [==============================] - 6s 3ms/step - loss: 0.3958 - accuracy: 0.8596 - val_loss: 0.3909 - val_accuracy: 0.8672\n",
            "Epoch 6/30\n",
            "1719/1719 [==============================] - 6s 3ms/step - loss: 0.3797 - accuracy: 0.8654 - val_loss: 0.3727 - val_accuracy: 0.8708\n",
            "Epoch 7/30\n",
            "1719/1719 [==============================] - 6s 3ms/step - loss: 0.3665 - accuracy: 0.8705 - val_loss: 0.3787 - val_accuracy: 0.8694\n",
            "Epoch 8/30\n",
            "1719/1719 [==============================] - 6s 3ms/step - loss: 0.3550 - accuracy: 0.8751 - val_loss: 0.3537 - val_accuracy: 0.8730\n",
            "Epoch 9/30\n",
            "1719/1719 [==============================] - 6s 3ms/step - loss: 0.3436 - accuracy: 0.8780 - val_loss: 0.3653 - val_accuracy: 0.8700\n",
            "Epoch 10/30\n",
            "1719/1719 [==============================] - 6s 3ms/step - loss: 0.3352 - accuracy: 0.8806 - val_loss: 0.3620 - val_accuracy: 0.8702\n",
            "Epoch 11/30\n",
            "1719/1719 [==============================] - 6s 3ms/step - loss: 0.3276 - accuracy: 0.8834 - val_loss: 0.3428 - val_accuracy: 0.8792\n",
            "Epoch 12/30\n",
            "1719/1719 [==============================] - 6s 3ms/step - loss: 0.3184 - accuracy: 0.8861 - val_loss: 0.3503 - val_accuracy: 0.8748\n",
            "Epoch 13/30\n",
            "1719/1719 [==============================] - 6s 4ms/step - loss: 0.3115 - accuracy: 0.8882 - val_loss: 0.3251 - val_accuracy: 0.8814\n",
            "Epoch 14/30\n",
            "1719/1719 [==============================] - 6s 3ms/step - loss: 0.3053 - accuracy: 0.8905 - val_loss: 0.3259 - val_accuracy: 0.8828\n",
            "Epoch 15/30\n",
            "1719/1719 [==============================] - 6s 3ms/step - loss: 0.2987 - accuracy: 0.8923 - val_loss: 0.3213 - val_accuracy: 0.8858\n",
            "Epoch 16/30\n",
            "1719/1719 [==============================] - 6s 3ms/step - loss: 0.2934 - accuracy: 0.8938 - val_loss: 0.3223 - val_accuracy: 0.8856\n",
            "Epoch 17/30\n",
            "1719/1719 [==============================] - 6s 3ms/step - loss: 0.2870 - accuracy: 0.8968 - val_loss: 0.3203 - val_accuracy: 0.8838\n",
            "Epoch 18/30\n",
            "1719/1719 [==============================] - 6s 3ms/step - loss: 0.2811 - accuracy: 0.8986 - val_loss: 0.3271 - val_accuracy: 0.8828\n",
            "Epoch 19/30\n",
            "1719/1719 [==============================] - 6s 3ms/step - loss: 0.2762 - accuracy: 0.8998 - val_loss: 0.3217 - val_accuracy: 0.8842\n",
            "Epoch 20/30\n",
            "1719/1719 [==============================] - 6s 3ms/step - loss: 0.2707 - accuracy: 0.9020 - val_loss: 0.3191 - val_accuracy: 0.8854\n",
            "Epoch 21/30\n",
            "1719/1719 [==============================] - 6s 3ms/step - loss: 0.2660 - accuracy: 0.9037 - val_loss: 0.3194 - val_accuracy: 0.8900\n",
            "Epoch 22/30\n",
            "1719/1719 [==============================] - 6s 3ms/step - loss: 0.2623 - accuracy: 0.9045 - val_loss: 0.3090 - val_accuracy: 0.8922\n",
            "Epoch 23/30\n",
            "1719/1719 [==============================] - 6s 3ms/step - loss: 0.2579 - accuracy: 0.9074 - val_loss: 0.3007 - val_accuracy: 0.8922\n",
            "Epoch 24/30\n",
            "1719/1719 [==============================] - 6s 3ms/step - loss: 0.2536 - accuracy: 0.9087 - val_loss: 0.3032 - val_accuracy: 0.8900\n",
            "Epoch 25/30\n",
            "1719/1719 [==============================] - 6s 3ms/step - loss: 0.2493 - accuracy: 0.9101 - val_loss: 0.3051 - val_accuracy: 0.8900\n",
            "Epoch 26/30\n",
            "1719/1719 [==============================] - 6s 3ms/step - loss: 0.2455 - accuracy: 0.9119 - val_loss: 0.3018 - val_accuracy: 0.8920\n",
            "Epoch 27/30\n",
            "1719/1719 [==============================] - 6s 3ms/step - loss: 0.2410 - accuracy: 0.9140 - val_loss: 0.3054 - val_accuracy: 0.8888\n",
            "Epoch 28/30\n",
            "1719/1719 [==============================] - 6s 3ms/step - loss: 0.2366 - accuracy: 0.9141 - val_loss: 0.3046 - val_accuracy: 0.8906\n",
            "Epoch 29/30\n",
            "1719/1719 [==============================] - 6s 3ms/step - loss: 0.2345 - accuracy: 0.9158 - val_loss: 0.2955 - val_accuracy: 0.8974\n",
            "Epoch 30/30\n",
            "1719/1719 [==============================] - 6s 3ms/step - loss: 0.2287 - accuracy: 0.9169 - val_loss: 0.3045 - val_accuracy: 0.8910\n",
            "Epoch 1/30\n",
            "860/860 [==============================] - 4s 5ms/step - loss: 0.8410 - accuracy: 0.7356 - val_loss: 0.5905 - val_accuracy: 0.8014\n",
            "Epoch 2/30\n",
            "860/860 [==============================] - 4s 4ms/step - loss: 0.5462 - accuracy: 0.8149 - val_loss: 0.4997 - val_accuracy: 0.8306\n",
            "Epoch 3/30\n",
            "860/860 [==============================] - 4s 5ms/step - loss: 0.4891 - accuracy: 0.8312 - val_loss: 0.4649 - val_accuracy: 0.8426\n",
            "Epoch 4/30\n",
            "860/860 [==============================] - 4s 5ms/step - loss: 0.4583 - accuracy: 0.8406 - val_loss: 0.4440 - val_accuracy: 0.8502\n",
            "Epoch 5/30\n",
            "860/860 [==============================] - 4s 5ms/step - loss: 0.4374 - accuracy: 0.8477 - val_loss: 0.4293 - val_accuracy: 0.8540\n",
            "Epoch 6/30\n",
            "860/860 [==============================] - 4s 5ms/step - loss: 0.4220 - accuracy: 0.8531 - val_loss: 0.4021 - val_accuracy: 0.8584\n",
            "Epoch 7/30\n",
            "860/860 [==============================] - 4s 5ms/step - loss: 0.4076 - accuracy: 0.8572 - val_loss: 0.4084 - val_accuracy: 0.8606\n",
            "Epoch 8/30\n",
            "860/860 [==============================] - 4s 5ms/step - loss: 0.3974 - accuracy: 0.8615 - val_loss: 0.4164 - val_accuracy: 0.8552\n",
            "Epoch 9/30\n",
            "860/860 [==============================] - 4s 5ms/step - loss: 0.3882 - accuracy: 0.8646 - val_loss: 0.4058 - val_accuracy: 0.8612\n",
            "Epoch 10/30\n",
            "860/860 [==============================] - 4s 5ms/step - loss: 0.3799 - accuracy: 0.8676 - val_loss: 0.3964 - val_accuracy: 0.8644\n",
            "Epoch 11/30\n",
            "860/860 [==============================] - 4s 5ms/step - loss: 0.3702 - accuracy: 0.8712 - val_loss: 0.3717 - val_accuracy: 0.8696\n",
            "Epoch 12/30\n",
            "860/860 [==============================] - 4s 5ms/step - loss: 0.3651 - accuracy: 0.8723 - val_loss: 0.3773 - val_accuracy: 0.8696\n",
            "Epoch 13/30\n",
            "860/860 [==============================] - 4s 5ms/step - loss: 0.3572 - accuracy: 0.8748 - val_loss: 0.3616 - val_accuracy: 0.8700\n",
            "Epoch 14/30\n",
            "860/860 [==============================] - 4s 5ms/step - loss: 0.3517 - accuracy: 0.8768 - val_loss: 0.3746 - val_accuracy: 0.8648\n",
            "Epoch 15/30\n",
            "860/860 [==============================] - 4s 5ms/step - loss: 0.3466 - accuracy: 0.8777 - val_loss: 0.3581 - val_accuracy: 0.8752\n",
            "Epoch 16/30\n",
            "860/860 [==============================] - 4s 5ms/step - loss: 0.3409 - accuracy: 0.8799 - val_loss: 0.3561 - val_accuracy: 0.8750\n",
            "Epoch 17/30\n",
            "860/860 [==============================] - 4s 5ms/step - loss: 0.3361 - accuracy: 0.8827 - val_loss: 0.4063 - val_accuracy: 0.8486\n",
            "Epoch 18/30\n",
            "860/860 [==============================] - 4s 5ms/step - loss: 0.3319 - accuracy: 0.8830 - val_loss: 0.3513 - val_accuracy: 0.8716\n",
            "Epoch 19/30\n",
            "860/860 [==============================] - 4s 5ms/step - loss: 0.3266 - accuracy: 0.8852 - val_loss: 0.3539 - val_accuracy: 0.8762\n",
            "Epoch 20/30\n",
            "860/860 [==============================] - 4s 5ms/step - loss: 0.3222 - accuracy: 0.8865 - val_loss: 0.3482 - val_accuracy: 0.8764\n",
            "Epoch 21/30\n",
            "860/860 [==============================] - 4s 5ms/step - loss: 0.3170 - accuracy: 0.8873 - val_loss: 0.3495 - val_accuracy: 0.8762\n",
            "Epoch 22/30\n",
            "860/860 [==============================] - 4s 5ms/step - loss: 0.3136 - accuracy: 0.8883 - val_loss: 0.3504 - val_accuracy: 0.8768\n",
            "Epoch 23/30\n",
            "860/860 [==============================] - 4s 5ms/step - loss: 0.3088 - accuracy: 0.8901 - val_loss: 0.4203 - val_accuracy: 0.8424\n",
            "Epoch 24/30\n",
            "860/860 [==============================] - 4s 5ms/step - loss: 0.3046 - accuracy: 0.8915 - val_loss: 0.3596 - val_accuracy: 0.8708\n",
            "Epoch 25/30\n",
            "860/860 [==============================] - 4s 5ms/step - loss: 0.3022 - accuracy: 0.8924 - val_loss: 0.3606 - val_accuracy: 0.8724\n",
            "Epoch 26/30\n",
            "860/860 [==============================] - 4s 5ms/step - loss: 0.2976 - accuracy: 0.8945 - val_loss: 0.3311 - val_accuracy: 0.8804\n",
            "Epoch 27/30\n",
            "860/860 [==============================] - 4s 5ms/step - loss: 0.2953 - accuracy: 0.8946 - val_loss: 0.3182 - val_accuracy: 0.8832\n",
            "Epoch 28/30\n",
            "860/860 [==============================] - 4s 5ms/step - loss: 0.2901 - accuracy: 0.8969 - val_loss: 0.3377 - val_accuracy: 0.8794\n",
            "Epoch 29/30\n",
            "860/860 [==============================] - 4s 5ms/step - loss: 0.2876 - accuracy: 0.8979 - val_loss: 0.3284 - val_accuracy: 0.8850\n",
            "Epoch 30/30\n",
            "860/860 [==============================] - 4s 5ms/step - loss: 0.2834 - accuracy: 0.8993 - val_loss: 0.3412 - val_accuracy: 0.8746\n",
            "Epoch 1/30\n",
            "430/430 [==============================] - 4s 7ms/step - loss: 1.0908 - accuracy: 0.6750 - val_loss: 0.7118 - val_accuracy: 0.7702\n",
            "Epoch 2/30\n",
            "430/430 [==============================] - 3s 6ms/step - loss: 0.6447 - accuracy: 0.7897 - val_loss: 0.5748 - val_accuracy: 0.8194\n",
            "Epoch 3/30\n",
            "430/430 [==============================] - 3s 7ms/step - loss: 0.5609 - accuracy: 0.8133 - val_loss: 0.5193 - val_accuracy: 0.8280\n",
            "Epoch 4/30\n",
            "430/430 [==============================] - 3s 7ms/step - loss: 0.5187 - accuracy: 0.8232 - val_loss: 0.5221 - val_accuracy: 0.8166\n",
            "Epoch 5/30\n",
            "430/430 [==============================] - 3s 7ms/step - loss: 0.4916 - accuracy: 0.8300 - val_loss: 0.4715 - val_accuracy: 0.8424\n",
            "Epoch 6/30\n",
            "430/430 [==============================] - 3s 7ms/step - loss: 0.4719 - accuracy: 0.8362 - val_loss: 0.4514 - val_accuracy: 0.8516\n",
            "Epoch 7/30\n",
            "430/430 [==============================] - 3s 7ms/step - loss: 0.4568 - accuracy: 0.8419 - val_loss: 0.4433 - val_accuracy: 0.8514\n",
            "Epoch 8/30\n",
            "430/430 [==============================] - 3s 7ms/step - loss: 0.4458 - accuracy: 0.8456 - val_loss: 0.4419 - val_accuracy: 0.8532\n",
            "Epoch 9/30\n",
            "430/430 [==============================] - 3s 7ms/step - loss: 0.4363 - accuracy: 0.8495 - val_loss: 0.4261 - val_accuracy: 0.8566\n",
            "Epoch 10/30\n",
            "430/430 [==============================] - 3s 7ms/step - loss: 0.4274 - accuracy: 0.8511 - val_loss: 0.4205 - val_accuracy: 0.8560\n",
            "Epoch 11/30\n",
            "430/430 [==============================] - 3s 7ms/step - loss: 0.4196 - accuracy: 0.8537 - val_loss: 0.4110 - val_accuracy: 0.8612\n",
            "Epoch 12/30\n",
            "430/430 [==============================] - 3s 7ms/step - loss: 0.4145 - accuracy: 0.8569 - val_loss: 0.4513 - val_accuracy: 0.8506\n",
            "Epoch 13/30\n",
            "430/430 [==============================] - 3s 7ms/step - loss: 0.4076 - accuracy: 0.8584 - val_loss: 0.4009 - val_accuracy: 0.8660\n",
            "Epoch 14/30\n",
            "430/430 [==============================] - 3s 7ms/step - loss: 0.4009 - accuracy: 0.8598 - val_loss: 0.3985 - val_accuracy: 0.8632\n",
            "Epoch 15/30\n",
            "430/430 [==============================] - 3s 6ms/step - loss: 0.3964 - accuracy: 0.8607 - val_loss: 0.3888 - val_accuracy: 0.8692\n",
            "Epoch 16/30\n",
            "430/430 [==============================] - 3s 7ms/step - loss: 0.3901 - accuracy: 0.8639 - val_loss: 0.4089 - val_accuracy: 0.8622\n",
            "Epoch 17/30\n",
            "430/430 [==============================] - 3s 7ms/step - loss: 0.3865 - accuracy: 0.8650 - val_loss: 0.3893 - val_accuracy: 0.8652\n",
            "Epoch 18/30\n",
            "430/430 [==============================] - 3s 7ms/step - loss: 0.3817 - accuracy: 0.8675 - val_loss: 0.4048 - val_accuracy: 0.8584\n",
            "Epoch 19/30\n",
            "430/430 [==============================] - 3s 7ms/step - loss: 0.3779 - accuracy: 0.8670 - val_loss: 0.3834 - val_accuracy: 0.8654\n",
            "Epoch 20/30\n",
            "430/430 [==============================] - 3s 7ms/step - loss: 0.3741 - accuracy: 0.8704 - val_loss: 0.3757 - val_accuracy: 0.8712\n",
            "Epoch 21/30\n",
            "430/430 [==============================] - 3s 7ms/step - loss: 0.3717 - accuracy: 0.8704 - val_loss: 0.3732 - val_accuracy: 0.8702\n",
            "Epoch 22/30\n",
            "430/430 [==============================] - 3s 7ms/step - loss: 0.3669 - accuracy: 0.8713 - val_loss: 0.3781 - val_accuracy: 0.8674\n",
            "Epoch 23/30\n",
            "430/430 [==============================] - 3s 7ms/step - loss: 0.3639 - accuracy: 0.8727 - val_loss: 0.3748 - val_accuracy: 0.8700\n",
            "Epoch 24/30\n",
            "430/430 [==============================] - 3s 7ms/step - loss: 0.3608 - accuracy: 0.8729 - val_loss: 0.3701 - val_accuracy: 0.8722\n",
            "Epoch 25/30\n",
            "430/430 [==============================] - 3s 7ms/step - loss: 0.3576 - accuracy: 0.8751 - val_loss: 0.3705 - val_accuracy: 0.8716\n",
            "Epoch 26/30\n",
            "430/430 [==============================] - 3s 7ms/step - loss: 0.3548 - accuracy: 0.8756 - val_loss: 0.3614 - val_accuracy: 0.8758\n",
            "Epoch 27/30\n",
            "430/430 [==============================] - 3s 7ms/step - loss: 0.3506 - accuracy: 0.8763 - val_loss: 0.3672 - val_accuracy: 0.8756\n",
            "Epoch 28/30\n",
            "430/430 [==============================] - 3s 7ms/step - loss: 0.3470 - accuracy: 0.8781 - val_loss: 0.3578 - val_accuracy: 0.8766\n",
            "Epoch 29/30\n",
            "430/430 [==============================] - 3s 6ms/step - loss: 0.3461 - accuracy: 0.8783 - val_loss: 0.3597 - val_accuracy: 0.8752\n",
            "Epoch 30/30\n",
            "430/430 [==============================] - 3s 7ms/step - loss: 0.3418 - accuracy: 0.8799 - val_loss: 0.3680 - val_accuracy: 0.8714\n"
          ]
        }
      ]
    },
    {
      "cell_type": "code",
      "source": [
        "len(list_history)"
      ],
      "metadata": {
        "id": "f4pmKN4L3AY0",
        "outputId": "f01b677c-e15e-4d69-f3b3-94487443e785",
        "colab": {
          "base_uri": "https://localhost:8080/"
        }
      },
      "execution_count": 105,
      "outputs": [
        {
          "output_type": "execute_result",
          "data": {
            "text/plain": [
              "3"
            ]
          },
          "metadata": {},
          "execution_count": 105
        }
      ]
    },
    {
      "cell_type": "code",
      "source": [
        "fig = plt.figure(figsize = (24,8))\n",
        "fig.subplots_adjust(hspace=0.4, wspace=0.4)\n",
        "for i in range(1, 4):\n",
        "    ax = fig.add_subplot(1, 3, i)\n",
        "    ax.plot(pd.DataFrame(list_history[i-1].history))\n",
        "    size = 2**(i+4)\n",
        "    plt.title(\"batch size = \" + str(size))\n",
        "    plt.grid(True)\n",
        "    plt.gca().set_ylim(0, 1)\n",
        "plt.show()"
      ],
      "metadata": {
        "id": "bkUEnLIZ3EYe",
        "outputId": "45c64863-eafe-442d-830d-5c3f946de453",
        "colab": {
          "base_uri": "https://localhost:8080/",
          "height": 318
        }
      },
      "execution_count": 106,
      "outputs": [
        {
          "output_type": "display_data",
          "data": {
            "text/plain": [
              "<Figure size 1728x576 with 3 Axes>"
            ],
            "image/png": "[encoded data removed]"
          },
          "metadata": {
            "needs_background": "light"
          }
        }
      ]
    },
    {
      "cell_type": "code",
      "source": [
        "#3\n",
        "list_history = []\n",
        "for i in range(40,100,20) :\n",
        "    model = keras.models.Sequential([\n",
        "    keras.layers.Flatten(input_shape=[28, 28]),\n",
        "    keras.layers.Dense(300, activation=\"relu\"),\n",
        "    keras.layers.Dense(100, activation=\"relu\"),\n",
        "    keras.layers.Dense(10, activation=\"softmax\")\n",
        "    ])\n",
        "    model.compile(loss=\"sparse_categorical_crossentropy\",\n",
        "                  optimizer=\"sgd\",\n",
        "                  metrics=[\"accuracy\"])\n",
        "    history = model.fit(X_train, y_train, batch_size = 32 , epochs= i,\n",
        "                        validation_data=(X_valid, y_valid))\n",
        "    list_history.append(history)"
      ],
      "metadata": {
        "id": "XE_BvxRf3PTo",
        "outputId": "40b348b0-bee5-47a8-988f-4ab0251d187e",
        "colab": {
          "base_uri": "https://localhost:8080/"
        }
      },
      "execution_count": 107,
      "outputs": [
        {
          "output_type": "stream",
          "name": "stdout",
          "text": [
            "Epoch 1/40\n",
            "1719/1719 [==============================] - 6s 3ms/step - loss: 0.7347 - accuracy: 0.7581 - val_loss: 0.5258 - val_accuracy: 0.8214\n",
            "Epoch 2/40\n",
            "1719/1719 [==============================] - 6s 3ms/step - loss: 0.4958 - accuracy: 0.8281 - val_loss: 0.4473 - val_accuracy: 0.8496\n",
            "Epoch 3/40\n",
            "1719/1719 [==============================] - 6s 3ms/step - loss: 0.4474 - accuracy: 0.8434 - val_loss: 0.4200 - val_accuracy: 0.8506\n",
            "Epoch 4/40\n",
            "1719/1719 [==============================] - 6s 3ms/step - loss: 0.4175 - accuracy: 0.8536 - val_loss: 0.4196 - val_accuracy: 0.8554\n",
            "Epoch 5/40\n",
            "1719/1719 [==============================] - 6s 4ms/step - loss: 0.3973 - accuracy: 0.8614 - val_loss: 0.3865 - val_accuracy: 0.8652\n",
            "Epoch 6/40\n",
            "1719/1719 [==============================] - 6s 3ms/step - loss: 0.3799 - accuracy: 0.8666 - val_loss: 0.3956 - val_accuracy: 0.8608\n",
            "Epoch 7/40\n",
            "1719/1719 [==============================] - 6s 4ms/step - loss: 0.3658 - accuracy: 0.8701 - val_loss: 0.3908 - val_accuracy: 0.8606\n",
            "Epoch 8/40\n",
            "1719/1719 [==============================] - 6s 4ms/step - loss: 0.3547 - accuracy: 0.8745 - val_loss: 0.3539 - val_accuracy: 0.8734\n",
            "Epoch 9/40\n",
            "1719/1719 [==============================] - 6s 4ms/step - loss: 0.3438 - accuracy: 0.8773 - val_loss: 0.3564 - val_accuracy: 0.8748\n",
            "Epoch 10/40\n",
            "1719/1719 [==============================] - 6s 3ms/step - loss: 0.3345 - accuracy: 0.8818 - val_loss: 0.3434 - val_accuracy: 0.8766\n",
            "Epoch 11/40\n",
            "1719/1719 [==============================] - 6s 3ms/step - loss: 0.3260 - accuracy: 0.8834 - val_loss: 0.3428 - val_accuracy: 0.8748\n",
            "Epoch 12/40\n",
            "1719/1719 [==============================] - 6s 3ms/step - loss: 0.3173 - accuracy: 0.8867 - val_loss: 0.3271 - val_accuracy: 0.8826\n",
            "Epoch 13/40\n",
            "1719/1719 [==============================] - 6s 3ms/step - loss: 0.3109 - accuracy: 0.8885 - val_loss: 0.3249 - val_accuracy: 0.8824\n",
            "Epoch 14/40\n",
            "1719/1719 [==============================] - 6s 4ms/step - loss: 0.3037 - accuracy: 0.8917 - val_loss: 0.3419 - val_accuracy: 0.8744\n",
            "Epoch 15/40\n",
            "1719/1719 [==============================] - 6s 4ms/step - loss: 0.2969 - accuracy: 0.8939 - val_loss: 0.3409 - val_accuracy: 0.8770\n",
            "Epoch 16/40\n",
            "1719/1719 [==============================] - 6s 4ms/step - loss: 0.2911 - accuracy: 0.8954 - val_loss: 0.3194 - val_accuracy: 0.8844\n",
            "Epoch 17/40\n",
            "1719/1719 [==============================] - 6s 4ms/step - loss: 0.2857 - accuracy: 0.8961 - val_loss: 0.3106 - val_accuracy: 0.8876\n",
            "Epoch 18/40\n",
            "1719/1719 [==============================] - 6s 4ms/step - loss: 0.2801 - accuracy: 0.8997 - val_loss: 0.3185 - val_accuracy: 0.8840\n",
            "Epoch 19/40\n",
            "1719/1719 [==============================] - 6s 3ms/step - loss: 0.2752 - accuracy: 0.9009 - val_loss: 0.3192 - val_accuracy: 0.8820\n",
            "Epoch 20/40\n",
            "1719/1719 [==============================] - 6s 3ms/step - loss: 0.2702 - accuracy: 0.9026 - val_loss: 0.3247 - val_accuracy: 0.8846\n",
            "Epoch 21/40\n",
            "1719/1719 [==============================] - 6s 4ms/step - loss: 0.2651 - accuracy: 0.9045 - val_loss: 0.3103 - val_accuracy: 0.8900\n",
            "Epoch 22/40\n",
            "1719/1719 [==============================] - 6s 4ms/step - loss: 0.2598 - accuracy: 0.9073 - val_loss: 0.3260 - val_accuracy: 0.8804\n",
            "Epoch 23/40\n",
            "1719/1719 [==============================] - 6s 4ms/step - loss: 0.2557 - accuracy: 0.9080 - val_loss: 0.2987 - val_accuracy: 0.8922\n",
            "Epoch 24/40\n",
            "1719/1719 [==============================] - 6s 3ms/step - loss: 0.2506 - accuracy: 0.9097 - val_loss: 0.3028 - val_accuracy: 0.8920\n",
            "Epoch 25/40\n",
            "1719/1719 [==============================] - 6s 3ms/step - loss: 0.2471 - accuracy: 0.9118 - val_loss: 0.3014 - val_accuracy: 0.8894\n",
            "Epoch 26/40\n",
            "1719/1719 [==============================] - 6s 3ms/step - loss: 0.2413 - accuracy: 0.9129 - val_loss: 0.2959 - val_accuracy: 0.8924\n",
            "Epoch 27/40\n",
            "1719/1719 [==============================] - 6s 3ms/step - loss: 0.2384 - accuracy: 0.9137 - val_loss: 0.2975 - val_accuracy: 0.8928\n",
            "Epoch 28/40\n",
            "1719/1719 [==============================] - 6s 3ms/step - loss: 0.2352 - accuracy: 0.9163 - val_loss: 0.2972 - val_accuracy: 0.8914\n",
            "Epoch 29/40\n",
            "1719/1719 [==============================] - 6s 3ms/step - loss: 0.2313 - accuracy: 0.9173 - val_loss: 0.3119 - val_accuracy: 0.8870\n",
            "Epoch 30/40\n",
            "1719/1719 [==============================] - 6s 3ms/step - loss: 0.2270 - accuracy: 0.9187 - val_loss: 0.2900 - val_accuracy: 0.8972\n",
            "Epoch 31/40\n",
            "1719/1719 [==============================] - 6s 3ms/step - loss: 0.2230 - accuracy: 0.9210 - val_loss: 0.3264 - val_accuracy: 0.8856\n",
            "Epoch 32/40\n",
            "1719/1719 [==============================] - 6s 3ms/step - loss: 0.2204 - accuracy: 0.9204 - val_loss: 0.3055 - val_accuracy: 0.8926\n",
            "Epoch 33/40\n",
            "1719/1719 [==============================] - 6s 3ms/step - loss: 0.2161 - accuracy: 0.9231 - val_loss: 0.2949 - val_accuracy: 0.8964\n",
            "Epoch 34/40\n",
            "1719/1719 [==============================] - 6s 4ms/step - loss: 0.2134 - accuracy: 0.9239 - val_loss: 0.2860 - val_accuracy: 0.8958\n",
            "Epoch 35/40\n",
            "1719/1719 [==============================] - 6s 3ms/step - loss: 0.2096 - accuracy: 0.9250 - val_loss: 0.3156 - val_accuracy: 0.8862\n",
            "Epoch 36/40\n",
            "1719/1719 [==============================] - 6s 3ms/step - loss: 0.2057 - accuracy: 0.9276 - val_loss: 0.3029 - val_accuracy: 0.8962\n",
            "Epoch 37/40\n",
            "1719/1719 [==============================] - 6s 3ms/step - loss: 0.2037 - accuracy: 0.9268 - val_loss: 0.3026 - val_accuracy: 0.8926\n",
            "Epoch 38/40\n",
            "1719/1719 [==============================] - 6s 3ms/step - loss: 0.1992 - accuracy: 0.9289 - val_loss: 0.2873 - val_accuracy: 0.8952\n",
            "Epoch 39/40\n",
            "1719/1719 [==============================] - 6s 3ms/step - loss: 0.1959 - accuracy: 0.9311 - val_loss: 0.3267 - val_accuracy: 0.8812\n",
            "Epoch 40/40\n",
            "1719/1719 [==============================] - 6s 3ms/step - loss: 0.1937 - accuracy: 0.9314 - val_loss: 0.2822 - val_accuracy: 0.8984\n",
            "Epoch 1/60\n",
            "1719/1719 [==============================] - 6s 4ms/step - loss: 0.7229 - accuracy: 0.7625 - val_loss: 0.5208 - val_accuracy: 0.8238\n",
            "Epoch 2/60\n",
            "1719/1719 [==============================] - 6s 3ms/step - loss: 0.4893 - accuracy: 0.8290 - val_loss: 0.4488 - val_accuracy: 0.8478\n",
            "Epoch 3/60\n",
            "1719/1719 [==============================] - 6s 3ms/step - loss: 0.4433 - accuracy: 0.8444 - val_loss: 0.4134 - val_accuracy: 0.8618\n",
            "Epoch 4/60\n",
            "1719/1719 [==============================] - 6s 3ms/step - loss: 0.4139 - accuracy: 0.8547 - val_loss: 0.4185 - val_accuracy: 0.8590\n",
            "Epoch 5/60\n",
            "1719/1719 [==============================] - 6s 3ms/step - loss: 0.3949 - accuracy: 0.8614 - val_loss: 0.4097 - val_accuracy: 0.8612\n",
            "Epoch 6/60\n",
            "1719/1719 [==============================] - 6s 3ms/step - loss: 0.3770 - accuracy: 0.8654 - val_loss: 0.4011 - val_accuracy: 0.8560\n",
            "Epoch 7/60\n",
            "1719/1719 [==============================] - 6s 3ms/step - loss: 0.3643 - accuracy: 0.8706 - val_loss: 0.3656 - val_accuracy: 0.8754\n",
            "Epoch 8/60\n",
            "1719/1719 [==============================] - 6s 3ms/step - loss: 0.3523 - accuracy: 0.8749 - val_loss: 0.3698 - val_accuracy: 0.8696\n",
            "Epoch 9/60\n",
            "1719/1719 [==============================] - 6s 3ms/step - loss: 0.3423 - accuracy: 0.8779 - val_loss: 0.3495 - val_accuracy: 0.8784\n",
            "Epoch 10/60\n",
            "1719/1719 [==============================] - 6s 3ms/step - loss: 0.3333 - accuracy: 0.8819 - val_loss: 0.3416 - val_accuracy: 0.8816\n",
            "Epoch 11/60\n",
            "1719/1719 [==============================] - 6s 3ms/step - loss: 0.3241 - accuracy: 0.8842 - val_loss: 0.3570 - val_accuracy: 0.8738\n",
            "Epoch 12/60\n",
            "1719/1719 [==============================] - 6s 3ms/step - loss: 0.3166 - accuracy: 0.8871 - val_loss: 0.3529 - val_accuracy: 0.8814\n",
            "Epoch 13/60\n",
            "1719/1719 [==============================] - 6s 3ms/step - loss: 0.3085 - accuracy: 0.8903 - val_loss: 0.3360 - val_accuracy: 0.8832\n",
            "Epoch 14/60\n",
            "1719/1719 [==============================] - 6s 3ms/step - loss: 0.3024 - accuracy: 0.8916 - val_loss: 0.3349 - val_accuracy: 0.8824\n",
            "Epoch 15/60\n",
            "1719/1719 [==============================] - 6s 3ms/step - loss: 0.2971 - accuracy: 0.8938 - val_loss: 0.3250 - val_accuracy: 0.8876\n",
            "Epoch 16/60\n",
            "1719/1719 [==============================] - 6s 3ms/step - loss: 0.2895 - accuracy: 0.8970 - val_loss: 0.3191 - val_accuracy: 0.8880\n",
            "Epoch 17/60\n",
            "1719/1719 [==============================] - 6s 3ms/step - loss: 0.2837 - accuracy: 0.8984 - val_loss: 0.3190 - val_accuracy: 0.8868\n",
            "Epoch 18/60\n",
            "1719/1719 [==============================] - 6s 3ms/step - loss: 0.2783 - accuracy: 0.8998 - val_loss: 0.3129 - val_accuracy: 0.8916\n",
            "Epoch 19/60\n",
            "1719/1719 [==============================] - 6s 3ms/step - loss: 0.2728 - accuracy: 0.9023 - val_loss: 0.3218 - val_accuracy: 0.8858\n",
            "Epoch 20/60\n",
            "1719/1719 [==============================] - 6s 3ms/step - loss: 0.2692 - accuracy: 0.9030 - val_loss: 0.3248 - val_accuracy: 0.8874\n",
            "Epoch 21/60\n",
            "1719/1719 [==============================] - 6s 3ms/step - loss: 0.2633 - accuracy: 0.9054 - val_loss: 0.3260 - val_accuracy: 0.8810\n",
            "Epoch 22/60\n",
            "1719/1719 [==============================] - 6s 3ms/step - loss: 0.2588 - accuracy: 0.9066 - val_loss: 0.3115 - val_accuracy: 0.8910\n",
            "Epoch 23/60\n",
            "1719/1719 [==============================] - 6s 3ms/step - loss: 0.2544 - accuracy: 0.9084 - val_loss: 0.3001 - val_accuracy: 0.8960\n",
            "Epoch 24/60\n",
            "1719/1719 [==============================] - 6s 3ms/step - loss: 0.2489 - accuracy: 0.9120 - val_loss: 0.3115 - val_accuracy: 0.8882\n",
            "Epoch 25/60\n",
            "1719/1719 [==============================] - 6s 3ms/step - loss: 0.2454 - accuracy: 0.9120 - val_loss: 0.3021 - val_accuracy: 0.8938\n",
            "Epoch 26/60\n",
            "1719/1719 [==============================] - 6s 3ms/step - loss: 0.2410 - accuracy: 0.9139 - val_loss: 0.3164 - val_accuracy: 0.8846\n",
            "Epoch 27/60\n",
            "1719/1719 [==============================] - 6s 3ms/step - loss: 0.2382 - accuracy: 0.9145 - val_loss: 0.3126 - val_accuracy: 0.8912\n",
            "Epoch 28/60\n",
            "1719/1719 [==============================] - 6s 3ms/step - loss: 0.2336 - accuracy: 0.9170 - val_loss: 0.3106 - val_accuracy: 0.8878\n",
            "Epoch 29/60\n",
            "1719/1719 [==============================] - 6s 3ms/step - loss: 0.2304 - accuracy: 0.9178 - val_loss: 0.2948 - val_accuracy: 0.8960\n",
            "Epoch 30/60\n",
            "1719/1719 [==============================] - 6s 3ms/step - loss: 0.2258 - accuracy: 0.9189 - val_loss: 0.2966 - val_accuracy: 0.8958\n",
            "Epoch 31/60\n",
            "1719/1719 [==============================] - 6s 3ms/step - loss: 0.2232 - accuracy: 0.9203 - val_loss: 0.2989 - val_accuracy: 0.8952\n",
            "Epoch 32/60\n",
            "1719/1719 [==============================] - 6s 3ms/step - loss: 0.2188 - accuracy: 0.9216 - val_loss: 0.2931 - val_accuracy: 0.8992\n",
            "Epoch 33/60\n",
            "1719/1719 [==============================] - 6s 3ms/step - loss: 0.2146 - accuracy: 0.9235 - val_loss: 0.2908 - val_accuracy: 0.8980\n",
            "Epoch 34/60\n",
            "1719/1719 [==============================] - 6s 3ms/step - loss: 0.2114 - accuracy: 0.9251 - val_loss: 0.2929 - val_accuracy: 0.8958\n",
            "Epoch 35/60\n",
            "1719/1719 [==============================] - 6s 3ms/step - loss: 0.2094 - accuracy: 0.9253 - val_loss: 0.2997 - val_accuracy: 0.8948\n",
            "Epoch 36/60\n",
            "1719/1719 [==============================] - 6s 3ms/step - loss: 0.2048 - accuracy: 0.9267 - val_loss: 0.2964 - val_accuracy: 0.8950\n",
            "Epoch 37/60\n",
            "1719/1719 [==============================] - 6s 3ms/step - loss: 0.2023 - accuracy: 0.9279 - val_loss: 0.2862 - val_accuracy: 0.8990\n",
            "Epoch 38/60\n",
            "1719/1719 [==============================] - 6s 3ms/step - loss: 0.1983 - accuracy: 0.9295 - val_loss: 0.3089 - val_accuracy: 0.8940\n",
            "Epoch 39/60\n",
            "1719/1719 [==============================] - 6s 3ms/step - loss: 0.1958 - accuracy: 0.9301 - val_loss: 0.2940 - val_accuracy: 0.8920\n",
            "Epoch 40/60\n",
            "1719/1719 [==============================] - 6s 3ms/step - loss: 0.1938 - accuracy: 0.9315 - val_loss: 0.2948 - val_accuracy: 0.8986\n",
            "Epoch 41/60\n",
            "1719/1719 [==============================] - 6s 3ms/step - loss: 0.1897 - accuracy: 0.9330 - val_loss: 0.2965 - val_accuracy: 0.8934\n",
            "Epoch 42/60\n",
            "1719/1719 [==============================] - 6s 3ms/step - loss: 0.1879 - accuracy: 0.9338 - val_loss: 0.2835 - val_accuracy: 0.9016\n",
            "Epoch 43/60\n",
            "1719/1719 [==============================] - 6s 3ms/step - loss: 0.1843 - accuracy: 0.9352 - val_loss: 0.3125 - val_accuracy: 0.8868\n",
            "Epoch 44/60\n",
            "1719/1719 [==============================] - 6s 3ms/step - loss: 0.1812 - accuracy: 0.9352 - val_loss: 0.2953 - val_accuracy: 0.8968\n",
            "Epoch 45/60\n",
            "1719/1719 [==============================] - 6s 3ms/step - loss: 0.1781 - accuracy: 0.9365 - val_loss: 0.2977 - val_accuracy: 0.8948\n",
            "Epoch 46/60\n",
            "1719/1719 [==============================] - 6s 3ms/step - loss: 0.1764 - accuracy: 0.9376 - val_loss: 0.2809 - val_accuracy: 0.9014\n",
            "Epoch 47/60\n",
            "1719/1719 [==============================] - 6s 3ms/step - loss: 0.1737 - accuracy: 0.9386 - val_loss: 0.3072 - val_accuracy: 0.8922\n",
            "Epoch 48/60\n",
            "1719/1719 [==============================] - 6s 4ms/step - loss: 0.1709 - accuracy: 0.9396 - val_loss: 0.2970 - val_accuracy: 0.8976\n",
            "Epoch 49/60\n",
            "1719/1719 [==============================] - 6s 3ms/step - loss: 0.1675 - accuracy: 0.9402 - val_loss: 0.3256 - val_accuracy: 0.8878\n",
            "Epoch 50/60\n",
            "1719/1719 [==============================] - 6s 3ms/step - loss: 0.1653 - accuracy: 0.9417 - val_loss: 0.2867 - val_accuracy: 0.8990\n",
            "Epoch 51/60\n",
            "1719/1719 [==============================] - 6s 3ms/step - loss: 0.1630 - accuracy: 0.9411 - val_loss: 0.3019 - val_accuracy: 0.8962\n",
            "Epoch 52/60\n",
            "1719/1719 [==============================] - 6s 3ms/step - loss: 0.1604 - accuracy: 0.9435 - val_loss: 0.3136 - val_accuracy: 0.8912\n",
            "Epoch 53/60\n",
            "1719/1719 [==============================] - 6s 3ms/step - loss: 0.1568 - accuracy: 0.9445 - val_loss: 0.2874 - val_accuracy: 0.9016\n",
            "Epoch 54/60\n",
            "1719/1719 [==============================] - 6s 3ms/step - loss: 0.1546 - accuracy: 0.9446 - val_loss: 0.2926 - val_accuracy: 0.8974\n",
            "Epoch 55/60\n",
            "1719/1719 [==============================] - 6s 3ms/step - loss: 0.1531 - accuracy: 0.9455 - val_loss: 0.3306 - val_accuracy: 0.8934\n",
            "Epoch 56/60\n",
            "1719/1719 [==============================] - 6s 3ms/step - loss: 0.1500 - accuracy: 0.9473 - val_loss: 0.3005 - val_accuracy: 0.8906\n",
            "Epoch 57/60\n",
            "1719/1719 [==============================] - 6s 3ms/step - loss: 0.1494 - accuracy: 0.9472 - val_loss: 0.3145 - val_accuracy: 0.8878\n",
            "Epoch 58/60\n",
            "1719/1719 [==============================] - 6s 3ms/step - loss: 0.1453 - accuracy: 0.9485 - val_loss: 0.2969 - val_accuracy: 0.8992\n",
            "Epoch 59/60\n",
            "1719/1719 [==============================] - 6s 3ms/step - loss: 0.1434 - accuracy: 0.9490 - val_loss: 0.3016 - val_accuracy: 0.8984\n",
            "Epoch 60/60\n",
            "1719/1719 [==============================] - 6s 3ms/step - loss: 0.1419 - accuracy: 0.9493 - val_loss: 0.2895 - val_accuracy: 0.8954\n",
            "Epoch 1/80\n",
            "1719/1719 [==============================] - 6s 4ms/step - loss: 0.7135 - accuracy: 0.7660 - val_loss: 0.5183 - val_accuracy: 0.8210\n",
            "Epoch 2/80\n",
            "1719/1719 [==============================] - 6s 3ms/step - loss: 0.4879 - accuracy: 0.8303 - val_loss: 0.4470 - val_accuracy: 0.8436\n",
            "Epoch 3/80\n",
            "1719/1719 [==============================] - 6s 3ms/step - loss: 0.4419 - accuracy: 0.8451 - val_loss: 0.4115 - val_accuracy: 0.8588\n",
            "Epoch 4/80\n",
            "1719/1719 [==============================] - 6s 3ms/step - loss: 0.4150 - accuracy: 0.8538 - val_loss: 0.4526 - val_accuracy: 0.8414\n",
            "Epoch 5/80\n",
            "1719/1719 [==============================] - 6s 3ms/step - loss: 0.3950 - accuracy: 0.8614 - val_loss: 0.3782 - val_accuracy: 0.8716\n",
            "Epoch 6/80\n",
            "1719/1719 [==============================] - 6s 3ms/step - loss: 0.3783 - accuracy: 0.8670 - val_loss: 0.3683 - val_accuracy: 0.8722\n",
            "Epoch 7/80\n",
            "1719/1719 [==============================] - 6s 3ms/step - loss: 0.3646 - accuracy: 0.8724 - val_loss: 0.3616 - val_accuracy: 0.8734\n",
            "Epoch 8/80\n",
            "1719/1719 [==============================] - 6s 3ms/step - loss: 0.3535 - accuracy: 0.8748 - val_loss: 0.3496 - val_accuracy: 0.8754\n",
            "Epoch 9/80\n",
            "1719/1719 [==============================] - 6s 3ms/step - loss: 0.3423 - accuracy: 0.8783 - val_loss: 0.3473 - val_accuracy: 0.8764\n",
            "Epoch 10/80\n",
            "1719/1719 [==============================] - 6s 3ms/step - loss: 0.3336 - accuracy: 0.8807 - val_loss: 0.3389 - val_accuracy: 0.8780\n",
            "Epoch 11/80\n",
            "1719/1719 [==============================] - 6s 3ms/step - loss: 0.3255 - accuracy: 0.8833 - val_loss: 0.3372 - val_accuracy: 0.8786\n",
            "Epoch 12/80\n",
            "1719/1719 [==============================] - 6s 3ms/step - loss: 0.3168 - accuracy: 0.8871 - val_loss: 0.3232 - val_accuracy: 0.8854\n",
            "Epoch 13/80\n",
            "1719/1719 [==============================] - 6s 3ms/step - loss: 0.3097 - accuracy: 0.8885 - val_loss: 0.3231 - val_accuracy: 0.8838\n",
            "Epoch 14/80\n",
            "1719/1719 [==============================] - 6s 3ms/step - loss: 0.3031 - accuracy: 0.8918 - val_loss: 0.3157 - val_accuracy: 0.8870\n",
            "Epoch 15/80\n",
            "1719/1719 [==============================] - 9s 5ms/step - loss: 0.2975 - accuracy: 0.8932 - val_loss: 0.3196 - val_accuracy: 0.8876\n",
            "Epoch 16/80\n",
            "1719/1719 [==============================] - 7s 4ms/step - loss: 0.2909 - accuracy: 0.8957 - val_loss: 0.3210 - val_accuracy: 0.8848\n",
            "Epoch 17/80\n",
            "1719/1719 [==============================] - 6s 4ms/step - loss: 0.2853 - accuracy: 0.8971 - val_loss: 0.3188 - val_accuracy: 0.8842\n",
            "Epoch 18/80\n",
            "1719/1719 [==============================] - 6s 4ms/step - loss: 0.2793 - accuracy: 0.8989 - val_loss: 0.3224 - val_accuracy: 0.8850\n",
            "Epoch 19/80\n",
            "1719/1719 [==============================] - 6s 4ms/step - loss: 0.2752 - accuracy: 0.9008 - val_loss: 0.3055 - val_accuracy: 0.8912\n",
            "Epoch 20/80\n",
            "1719/1719 [==============================] - 6s 3ms/step - loss: 0.2700 - accuracy: 0.9031 - val_loss: 0.3069 - val_accuracy: 0.8874\n",
            "Epoch 21/80\n",
            "1719/1719 [==============================] - 6s 4ms/step - loss: 0.2655 - accuracy: 0.9047 - val_loss: 0.3023 - val_accuracy: 0.8898\n",
            "Epoch 22/80\n",
            "1719/1719 [==============================] - 6s 4ms/step - loss: 0.2607 - accuracy: 0.9059 - val_loss: 0.3154 - val_accuracy: 0.8866\n",
            "Epoch 23/80\n",
            "1719/1719 [==============================] - 6s 4ms/step - loss: 0.2555 - accuracy: 0.9087 - val_loss: 0.2949 - val_accuracy: 0.8922\n",
            "Epoch 24/80\n",
            "1719/1719 [==============================] - 6s 4ms/step - loss: 0.2522 - accuracy: 0.9092 - val_loss: 0.2951 - val_accuracy: 0.8926\n",
            "Epoch 25/80\n",
            "1719/1719 [==============================] - 6s 4ms/step - loss: 0.2483 - accuracy: 0.9105 - val_loss: 0.3016 - val_accuracy: 0.8900\n",
            "Epoch 26/80\n",
            "1719/1719 [==============================] - 6s 4ms/step - loss: 0.2436 - accuracy: 0.9132 - val_loss: 0.2875 - val_accuracy: 0.8966\n",
            "Epoch 27/80\n",
            "1719/1719 [==============================] - 7s 4ms/step - loss: 0.2394 - accuracy: 0.9123 - val_loss: 0.3011 - val_accuracy: 0.8912\n",
            "Epoch 28/80\n",
            "1719/1719 [==============================] - 6s 4ms/step - loss: 0.2369 - accuracy: 0.9146 - val_loss: 0.3173 - val_accuracy: 0.8840\n",
            "Epoch 29/80\n",
            "1719/1719 [==============================] - 6s 4ms/step - loss: 0.2317 - accuracy: 0.9164 - val_loss: 0.2906 - val_accuracy: 0.8962\n",
            "Epoch 30/80\n",
            "1719/1719 [==============================] - 6s 3ms/step - loss: 0.2288 - accuracy: 0.9178 - val_loss: 0.2956 - val_accuracy: 0.8932\n",
            "Epoch 31/80\n",
            "1719/1719 [==============================] - 6s 4ms/step - loss: 0.2248 - accuracy: 0.9193 - val_loss: 0.2900 - val_accuracy: 0.8942\n",
            "Epoch 32/80\n",
            "1719/1719 [==============================] - 6s 3ms/step - loss: 0.2211 - accuracy: 0.9206 - val_loss: 0.2849 - val_accuracy: 0.8976\n",
            "Epoch 33/80\n",
            "1719/1719 [==============================] - 6s 3ms/step - loss: 0.2177 - accuracy: 0.9212 - val_loss: 0.2919 - val_accuracy: 0.8938\n",
            "Epoch 34/80\n",
            "1719/1719 [==============================] - 6s 3ms/step - loss: 0.2130 - accuracy: 0.9239 - val_loss: 0.2835 - val_accuracy: 0.8948\n",
            "Epoch 35/80\n",
            "1719/1719 [==============================] - 6s 4ms/step - loss: 0.2116 - accuracy: 0.9247 - val_loss: 0.3061 - val_accuracy: 0.8912\n",
            "Epoch 36/80\n",
            "1719/1719 [==============================] - 6s 4ms/step - loss: 0.2078 - accuracy: 0.9256 - val_loss: 0.3081 - val_accuracy: 0.8854\n",
            "Epoch 37/80\n",
            "1719/1719 [==============================] - 6s 4ms/step - loss: 0.2053 - accuracy: 0.9270 - val_loss: 0.2849 - val_accuracy: 0.8950\n",
            "Epoch 38/80\n",
            "1719/1719 [==============================] - 6s 4ms/step - loss: 0.2018 - accuracy: 0.9273 - val_loss: 0.3094 - val_accuracy: 0.8914\n",
            "Epoch 39/80\n",
            "1719/1719 [==============================] - 6s 3ms/step - loss: 0.1992 - accuracy: 0.9287 - val_loss: 0.2836 - val_accuracy: 0.8988\n",
            "Epoch 40/80\n",
            "1719/1719 [==============================] - 6s 4ms/step - loss: 0.1959 - accuracy: 0.9293 - val_loss: 0.2847 - val_accuracy: 0.8992\n",
            "Epoch 41/80\n",
            "1719/1719 [==============================] - 6s 4ms/step - loss: 0.1936 - accuracy: 0.9308 - val_loss: 0.2957 - val_accuracy: 0.8968\n",
            "Epoch 42/80\n",
            "1719/1719 [==============================] - 6s 4ms/step - loss: 0.1901 - accuracy: 0.9319 - val_loss: 0.2848 - val_accuracy: 0.8974\n",
            "Epoch 43/80\n",
            "1719/1719 [==============================] - 6s 4ms/step - loss: 0.1876 - accuracy: 0.9333 - val_loss: 0.3010 - val_accuracy: 0.8926\n",
            "Epoch 44/80\n",
            "1719/1719 [==============================] - 6s 4ms/step - loss: 0.1853 - accuracy: 0.9333 - val_loss: 0.2893 - val_accuracy: 0.8924\n",
            "Epoch 45/80\n",
            "1719/1719 [==============================] - 6s 4ms/step - loss: 0.1820 - accuracy: 0.9349 - val_loss: 0.3081 - val_accuracy: 0.8870\n",
            "Epoch 46/80\n",
            "1719/1719 [==============================] - 6s 4ms/step - loss: 0.1792 - accuracy: 0.9365 - val_loss: 0.3099 - val_accuracy: 0.8936\n",
            "Epoch 47/80\n",
            "1719/1719 [==============================] - 6s 4ms/step - loss: 0.1760 - accuracy: 0.9377 - val_loss: 0.2863 - val_accuracy: 0.8974\n",
            "Epoch 48/80\n",
            "1719/1719 [==============================] - 6s 4ms/step - loss: 0.1745 - accuracy: 0.9382 - val_loss: 0.2827 - val_accuracy: 0.9006\n",
            "Epoch 49/80\n",
            "1719/1719 [==============================] - 6s 4ms/step - loss: 0.1713 - accuracy: 0.9392 - val_loss: 0.2947 - val_accuracy: 0.8978\n",
            "Epoch 50/80\n",
            "1719/1719 [==============================] - 6s 4ms/step - loss: 0.1688 - accuracy: 0.9395 - val_loss: 0.2991 - val_accuracy: 0.8950\n",
            "Epoch 51/80\n",
            "1719/1719 [==============================] - 6s 4ms/step - loss: 0.1660 - accuracy: 0.9408 - val_loss: 0.2923 - val_accuracy: 0.8970\n",
            "Epoch 52/80\n",
            "1719/1719 [==============================] - 6s 4ms/step - loss: 0.1646 - accuracy: 0.9410 - val_loss: 0.3443 - val_accuracy: 0.8828\n",
            "Epoch 53/80\n",
            "1719/1719 [==============================] - 6s 3ms/step - loss: 0.1611 - accuracy: 0.9427 - val_loss: 0.3084 - val_accuracy: 0.8940\n",
            "Epoch 54/80\n",
            "1719/1719 [==============================] - 6s 4ms/step - loss: 0.1592 - accuracy: 0.9436 - val_loss: 0.3022 - val_accuracy: 0.8938\n",
            "Epoch 55/80\n",
            "1719/1719 [==============================] - 6s 4ms/step - loss: 0.1560 - accuracy: 0.9448 - val_loss: 0.2834 - val_accuracy: 0.9000\n",
            "Epoch 56/80\n",
            "1719/1719 [==============================] - 6s 4ms/step - loss: 0.1540 - accuracy: 0.9460 - val_loss: 0.2885 - val_accuracy: 0.8980\n",
            "Epoch 57/80\n",
            "1719/1719 [==============================] - 6s 4ms/step - loss: 0.1516 - accuracy: 0.9464 - val_loss: 0.2998 - val_accuracy: 0.8970\n",
            "Epoch 58/80\n",
            "1719/1719 [==============================] - 6s 4ms/step - loss: 0.1482 - accuracy: 0.9476 - val_loss: 0.2901 - val_accuracy: 0.8980\n",
            "Epoch 59/80\n",
            "1719/1719 [==============================] - 6s 4ms/step - loss: 0.1471 - accuracy: 0.9486 - val_loss: 0.2985 - val_accuracy: 0.9000\n",
            "Epoch 60/80\n",
            "1719/1719 [==============================] - 6s 4ms/step - loss: 0.1447 - accuracy: 0.9492 - val_loss: 0.2910 - val_accuracy: 0.8988\n",
            "Epoch 61/80\n",
            "1719/1719 [==============================] - 6s 4ms/step - loss: 0.1432 - accuracy: 0.9491 - val_loss: 0.2885 - val_accuracy: 0.8988\n",
            "Epoch 62/80\n",
            "1719/1719 [==============================] - 6s 4ms/step - loss: 0.1411 - accuracy: 0.9498 - val_loss: 0.3050 - val_accuracy: 0.8974\n",
            "Epoch 63/80\n",
            "1719/1719 [==============================] - 6s 4ms/step - loss: 0.1383 - accuracy: 0.9522 - val_loss: 0.3022 - val_accuracy: 0.8966\n",
            "Epoch 64/80\n",
            "1719/1719 [==============================] - 6s 4ms/step - loss: 0.1373 - accuracy: 0.9527 - val_loss: 0.3235 - val_accuracy: 0.8966\n",
            "Epoch 65/80\n",
            "1719/1719 [==============================] - 6s 4ms/step - loss: 0.1349 - accuracy: 0.9531 - val_loss: 0.3160 - val_accuracy: 0.8930\n",
            "Epoch 66/80\n",
            "1719/1719 [==============================] - 6s 4ms/step - loss: 0.1310 - accuracy: 0.9545 - val_loss: 0.3384 - val_accuracy: 0.8828\n",
            "Epoch 67/80\n",
            "1719/1719 [==============================] - 6s 4ms/step - loss: 0.1296 - accuracy: 0.9546 - val_loss: 0.3092 - val_accuracy: 0.8972\n",
            "Epoch 68/80\n",
            "1719/1719 [==============================] - 6s 4ms/step - loss: 0.1282 - accuracy: 0.9549 - val_loss: 0.3044 - val_accuracy: 0.9000\n",
            "Epoch 69/80\n",
            "1719/1719 [==============================] - 6s 4ms/step - loss: 0.1268 - accuracy: 0.9561 - val_loss: 0.3070 - val_accuracy: 0.8998\n",
            "Epoch 70/80\n",
            "1719/1719 [==============================] - 6s 4ms/step - loss: 0.1256 - accuracy: 0.9561 - val_loss: 0.3068 - val_accuracy: 0.8936\n",
            "Epoch 71/80\n",
            "1719/1719 [==============================] - 6s 4ms/step - loss: 0.1226 - accuracy: 0.9566 - val_loss: 0.3061 - val_accuracy: 0.9012\n",
            "Epoch 72/80\n",
            "1719/1719 [==============================] - 6s 4ms/step - loss: 0.1203 - accuracy: 0.9573 - val_loss: 0.3162 - val_accuracy: 0.8996\n",
            "Epoch 73/80\n",
            "1719/1719 [==============================] - 6s 4ms/step - loss: 0.1192 - accuracy: 0.9592 - val_loss: 0.3094 - val_accuracy: 0.8962\n",
            "Epoch 74/80\n",
            "1719/1719 [==============================] - 6s 4ms/step - loss: 0.1169 - accuracy: 0.9595 - val_loss: 0.3035 - val_accuracy: 0.8980\n",
            "Epoch 75/80\n",
            "1719/1719 [==============================] - 6s 4ms/step - loss: 0.1152 - accuracy: 0.9603 - val_loss: 0.3063 - val_accuracy: 0.8992\n",
            "Epoch 76/80\n",
            "1719/1719 [==============================] - 6s 4ms/step - loss: 0.1147 - accuracy: 0.9604 - val_loss: 0.2996 - val_accuracy: 0.9022\n",
            "Epoch 77/80\n",
            "1719/1719 [==============================] - 6s 4ms/step - loss: 0.1121 - accuracy: 0.9616 - val_loss: 0.3569 - val_accuracy: 0.8864\n",
            "Epoch 78/80\n",
            "1719/1719 [==============================] - 7s 4ms/step - loss: 0.1090 - accuracy: 0.9629 - val_loss: 0.3566 - val_accuracy: 0.8884\n",
            "Epoch 79/80\n",
            "1719/1719 [==============================] - 6s 4ms/step - loss: 0.1068 - accuracy: 0.9629 - val_loss: 0.3103 - val_accuracy: 0.9030\n",
            "Epoch 80/80\n",
            "1719/1719 [==============================] - 6s 4ms/step - loss: 0.1057 - accuracy: 0.9628 - val_loss: 0.3295 - val_accuracy: 0.9008\n"
          ]
        }
      ]
    },
    {
      "cell_type": "code",
      "source": [
        "fig = plt.figure(figsize = (24,8))\n",
        "fig.subplots_adjust(hspace=0.4, wspace=0.4)\n",
        "for i in range(1, 4):\n",
        "    ax = fig.add_subplot(1, 3, i)\n",
        "    ax.plot(pd.DataFrame(list_history[i-1].history))\n",
        "    size = 40 + (i-1)*20\n",
        "    plt.title(\"epochs number = \" + str(size))\n",
        "    plt.grid(True)\n",
        "    plt.gca().set_ylim(0, 1)\n",
        "plt.show()"
      ],
      "metadata": {
        "id": "pCjCfZwz4ad2",
        "outputId": "e2651597-f4a5-4bb3-df00-7aa6404f8cda",
        "colab": {
          "base_uri": "https://localhost:8080/",
          "height": 319
        }
      },
      "execution_count": 108,
      "outputs": [
        {
          "output_type": "display_data",
          "data": {
            "text/plain": [
              "<Figure size 1728x576 with 3 Axes>"
            ],
            "image/png": "[encoded data removed]"
          },
          "metadata": {
            "needs_background": "light"
          }
        }
      ]
    },
    {
      "cell_type": "code",
      "source": [
        "#4\n",
        "model_ = keras.models.Sequential([\n",
        "    keras.layers.Flatten(input_shape=[28, 28]),\n",
        "    keras.layers.Dense(400, activation=\"relu\"),\n",
        "    keras.layers.Dropout(0.2),\n",
        "    keras.layers.Dense(200, activation=\"relu\"),\n",
        "    keras.layers.Dense(10, activation=\"softmax\")\n",
        "    ])\n",
        "\n",
        "model_.compile(loss=\"sparse_categorical_crossentropy\",\n",
        "                  optimizer=\"sgd\",\n",
        "                  metrics=[\"accuracy\"])\n",
        "history = model_.fit(X_train, y_train, batch_size = 32 , epochs= 30,\n",
        "                        validation_data=(X_valid, y_valid))\n",
        "\n",
        "pd.DataFrame(history.history).plot(figsize=(8, 5))\n",
        "plt.grid(True)\n",
        "plt.gca().set_ylim(0, 1)\n",
        "plt.show()"
      ],
      "metadata": {
        "id": "wtvhuBhG417m",
        "outputId": "8a199bc2-a232-4c9b-f847-2c79e6ebf089",
        "colab": {
          "base_uri": "https://localhost:8080/",
          "height": 1000
        }
      },
      "execution_count": 110,
      "outputs": [
        {
          "output_type": "stream",
          "name": "stdout",
          "text": [
            "Epoch 1/30\n",
            "1719/1719 [==============================] - 9s 5ms/step - loss: 0.7449 - accuracy: 0.7524 - val_loss: 0.5067 - val_accuracy: 0.8284\n",
            "Epoch 2/30\n",
            "1719/1719 [==============================] - 9s 5ms/step - loss: 0.5085 - accuracy: 0.8238 - val_loss: 0.4633 - val_accuracy: 0.8434\n",
            "Epoch 3/30\n",
            "1719/1719 [==============================] - 9s 5ms/step - loss: 0.4577 - accuracy: 0.8381 - val_loss: 0.4345 - val_accuracy: 0.8484\n",
            "Epoch 4/30\n",
            "1719/1719 [==============================] - 8s 5ms/step - loss: 0.4236 - accuracy: 0.8504 - val_loss: 0.3942 - val_accuracy: 0.8644\n",
            "Epoch 5/30\n",
            "1719/1719 [==============================] - 9s 5ms/step - loss: 0.4030 - accuracy: 0.8569 - val_loss: 0.3735 - val_accuracy: 0.8684\n",
            "Epoch 6/30\n",
            "1719/1719 [==============================] - 9s 5ms/step - loss: 0.3859 - accuracy: 0.8627 - val_loss: 0.3835 - val_accuracy: 0.8632\n",
            "Epoch 7/30\n",
            "1719/1719 [==============================] - 8s 5ms/step - loss: 0.3702 - accuracy: 0.8676 - val_loss: 0.3540 - val_accuracy: 0.8738\n",
            "Epoch 8/30\n",
            "1719/1719 [==============================] - 8s 5ms/step - loss: 0.3598 - accuracy: 0.8712 - val_loss: 0.3550 - val_accuracy: 0.8724\n",
            "Epoch 9/30\n",
            "1719/1719 [==============================] - 8s 5ms/step - loss: 0.3483 - accuracy: 0.8750 - val_loss: 0.3439 - val_accuracy: 0.8796\n",
            "Epoch 10/30\n",
            "1719/1719 [==============================] - 9s 5ms/step - loss: 0.3386 - accuracy: 0.8787 - val_loss: 0.3385 - val_accuracy: 0.8782\n",
            "Epoch 11/30\n",
            "1719/1719 [==============================] - 8s 5ms/step - loss: 0.3291 - accuracy: 0.8821 - val_loss: 0.3329 - val_accuracy: 0.8788\n",
            "Epoch 12/30\n",
            "1719/1719 [==============================] - 10s 6ms/step - loss: 0.3229 - accuracy: 0.8832 - val_loss: 0.3316 - val_accuracy: 0.8828\n",
            "Epoch 13/30\n",
            "1719/1719 [==============================] - 8s 5ms/step - loss: 0.3156 - accuracy: 0.8865 - val_loss: 0.3217 - val_accuracy: 0.8836\n",
            "Epoch 14/30\n",
            "1719/1719 [==============================] - 9s 5ms/step - loss: 0.3079 - accuracy: 0.8897 - val_loss: 0.3171 - val_accuracy: 0.8842\n",
            "Epoch 15/30\n",
            "1719/1719 [==============================] - 8s 5ms/step - loss: 0.3030 - accuracy: 0.8897 - val_loss: 0.3256 - val_accuracy: 0.8834\n",
            "Epoch 16/30\n",
            "1719/1719 [==============================] - 9s 5ms/step - loss: 0.2970 - accuracy: 0.8932 - val_loss: 0.3167 - val_accuracy: 0.8874\n",
            "Epoch 17/30\n",
            "1719/1719 [==============================] - 9s 5ms/step - loss: 0.2917 - accuracy: 0.8940 - val_loss: 0.3139 - val_accuracy: 0.8840\n",
            "Epoch 18/30\n",
            "1719/1719 [==============================] - 9s 5ms/step - loss: 0.2857 - accuracy: 0.8960 - val_loss: 0.3215 - val_accuracy: 0.8858\n",
            "Epoch 19/30\n",
            "1719/1719 [==============================] - 9s 5ms/step - loss: 0.2817 - accuracy: 0.8978 - val_loss: 0.3025 - val_accuracy: 0.8910\n",
            "Epoch 20/30\n",
            "1719/1719 [==============================] - 9s 5ms/step - loss: 0.2760 - accuracy: 0.8987 - val_loss: 0.3017 - val_accuracy: 0.8890\n",
            "Epoch 21/30\n",
            "1719/1719 [==============================] - 9s 5ms/step - loss: 0.2703 - accuracy: 0.9009 - val_loss: 0.3037 - val_accuracy: 0.8896\n",
            "Epoch 22/30\n",
            "1719/1719 [==============================] - 8s 5ms/step - loss: 0.2668 - accuracy: 0.9032 - val_loss: 0.2942 - val_accuracy: 0.8948\n",
            "Epoch 23/30\n",
            "1719/1719 [==============================] - 9s 5ms/step - loss: 0.2630 - accuracy: 0.9044 - val_loss: 0.2979 - val_accuracy: 0.8926\n",
            "Epoch 24/30\n",
            "1719/1719 [==============================] - 9s 5ms/step - loss: 0.2596 - accuracy: 0.9061 - val_loss: 0.2910 - val_accuracy: 0.8990\n",
            "Epoch 25/30\n",
            "1719/1719 [==============================] - 9s 5ms/step - loss: 0.2549 - accuracy: 0.9073 - val_loss: 0.2936 - val_accuracy: 0.8942\n",
            "Epoch 26/30\n",
            "1719/1719 [==============================] - 8s 5ms/step - loss: 0.2518 - accuracy: 0.9084 - val_loss: 0.2915 - val_accuracy: 0.8944\n",
            "Epoch 27/30\n",
            "1719/1719 [==============================] - 9s 5ms/step - loss: 0.2477 - accuracy: 0.9094 - val_loss: 0.2941 - val_accuracy: 0.8926\n",
            "Epoch 28/30\n",
            "1719/1719 [==============================] - 8s 5ms/step - loss: 0.2439 - accuracy: 0.9111 - val_loss: 0.2946 - val_accuracy: 0.8906\n",
            "Epoch 29/30\n",
            "1719/1719 [==============================] - 9s 5ms/step - loss: 0.2409 - accuracy: 0.9122 - val_loss: 0.2901 - val_accuracy: 0.8940\n",
            "Epoch 30/30\n",
            "1719/1719 [==============================] - 11s 7ms/step - loss: 0.2385 - accuracy: 0.9116 - val_loss: 0.2873 - val_accuracy: 0.8962\n"
          ]
        },
        {
          "output_type": "display_data",
          "data": {
            "text/plain": [
              "<Figure size 576x360 with 1 Axes>"
            ],
            "image/png": "[encoded data removed]"
          },
          "metadata": {
            "needs_background": "light"
          }
        }
      ]
    },
    {
      "cell_type": "code",
      "source": [
        ""
      ],
      "metadata": {
        "id": "CyU4wFlMIL9v"
      },
      "execution_count": null,
      "outputs": []
    }
  ],
  "metadata": {
    "kernelspec": {
      "display_name": "Python 3",
      "language": "python",
      "name": "python3"
    },
    "language_info": {
      "codemirror_mode": {
        "name": "ipython",
        "version": 3
      },
      "file_extension": ".py",
      "mimetype": "text/x-python",
      "name": "python",
      "nbconvert_exporter": "python",
      "pygments_lexer": "ipython3",
      "version": "3.6.1"
    },
    "nav_menu": {
      "height": "264px",
      "width": "369px"
    },
    "toc": {
      "navigate_menu": true,
      "number_sections": true,
      "sideBar": true,
      "threshold": 6,
      "toc_cell": false,
      "toc_section_display": "block",
      "toc_window_display": false
    },
    "colab": {
      "name": "ANN_with_keras.ipynb",
      "provenance": []
    }
  },
  "nbformat": 4,
  "nbformat_minor": 0
}